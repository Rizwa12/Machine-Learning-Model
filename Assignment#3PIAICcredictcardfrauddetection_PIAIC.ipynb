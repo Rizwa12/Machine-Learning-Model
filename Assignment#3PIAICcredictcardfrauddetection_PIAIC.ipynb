{
  "nbformat": 4,
  "nbformat_minor": 0,
  "metadata": {
    "colab": {
      "name": "Assignment#2credictcardfrauddetection PIAIC",
      "provenance": [],
      "collapsed_sections": []
    },
    "kernelspec": {
      "name": "python3",
      "display_name": "Python 3"
    },
    "language_info": {
      "name": "python"
    }
  },
  "cells": [
    {
      "cell_type": "code",
      "metadata": {
        "id": "VDSzWfchZz-4"
      },
      "source": [
        "import tensorflow as tf\n",
        "from tensorflow.keras import models,layers,optimizers,utils\n",
        "import numpy as np\n",
        "import matplotlib as plt\n",
        "import pandas as pd"
      ],
      "execution_count": null,
      "outputs": []
    },
    {
      "cell_type": "code",
      "metadata": {
        "colab": {
          "base_uri": "https://localhost:8080/"
        },
        "id": "EFOXAd7yuxdx",
        "outputId": "0329c662-31fc-4874-c86b-e2cc8b37b85f"
      },
      "source": [
        "from google.colab import drive\n",
        "drive.mount('/content/drive/')"
      ],
      "execution_count": null,
      "outputs": [
        {
          "output_type": "stream",
          "text": [
            "Drive already mounted at /content/drive/; to attempt to forcibly remount, call drive.mount(\"/content/drive/\", force_remount=True).\n"
          ],
          "name": "stdout"
        }
      ]
    },
    {
      "cell_type": "code",
      "metadata": {
        "id": "jXW2GbaXu_ls"
      },
      "source": [
        "df = pd.read_csv(\"/content/drive/MyDrive/creditcard.csv\")"
      ],
      "execution_count": null,
      "outputs": []
    },
    {
      "cell_type": "code",
      "metadata": {
        "colab": {
          "base_uri": "https://localhost:8080/"
        },
        "id": "FmfyLUD4ZcdM",
        "outputId": "856fb8d9-fd08-4ec5-9898-6434740f5826"
      },
      "source": [
        "!pip install -U scikit-learn"
      ],
      "execution_count": null,
      "outputs": [
        {
          "output_type": "stream",
          "text": [
            "Requirement already up-to-date: scikit-learn in /usr/local/lib/python3.7/dist-packages (0.24.1)\n",
            "Requirement already satisfied, skipping upgrade: scipy>=0.19.1 in /usr/local/lib/python3.7/dist-packages (from scikit-learn) (1.4.1)\n",
            "Requirement already satisfied, skipping upgrade: threadpoolctl>=2.0.0 in /usr/local/lib/python3.7/dist-packages (from scikit-learn) (2.1.0)\n",
            "Requirement already satisfied, skipping upgrade: joblib>=0.11 in /usr/local/lib/python3.7/dist-packages (from scikit-learn) (1.0.1)\n",
            "Requirement already satisfied, skipping upgrade: numpy>=1.13.3 in /usr/local/lib/python3.7/dist-packages (from scikit-learn) (1.19.5)\n"
          ],
          "name": "stdout"
        }
      ]
    },
    {
      "cell_type": "code",
      "metadata": {
        "colab": {
          "base_uri": "https://localhost:8080/",
          "height": 224
        },
        "id": "qNM5obOOvagZ",
        "outputId": "f84e8be3-2da4-4bef-cb30-a4e1aff7a15d"
      },
      "source": [
        "df.head(5)"
      ],
      "execution_count": null,
      "outputs": [
        {
          "output_type": "execute_result",
          "data": {
            "text/html": [
              "<div>\n",
              "<style scoped>\n",
              "    .dataframe tbody tr th:only-of-type {\n",
              "        vertical-align: middle;\n",
              "    }\n",
              "\n",
              "    .dataframe tbody tr th {\n",
              "        vertical-align: top;\n",
              "    }\n",
              "\n",
              "    .dataframe thead th {\n",
              "        text-align: right;\n",
              "    }\n",
              "</style>\n",
              "<table border=\"1\" class=\"dataframe\">\n",
              "  <thead>\n",
              "    <tr style=\"text-align: right;\">\n",
              "      <th></th>\n",
              "      <th>Time</th>\n",
              "      <th>V1</th>\n",
              "      <th>V2</th>\n",
              "      <th>V3</th>\n",
              "      <th>V4</th>\n",
              "      <th>V5</th>\n",
              "      <th>V6</th>\n",
              "      <th>V7</th>\n",
              "      <th>V8</th>\n",
              "      <th>V9</th>\n",
              "      <th>V10</th>\n",
              "      <th>V11</th>\n",
              "      <th>V12</th>\n",
              "      <th>V13</th>\n",
              "      <th>V14</th>\n",
              "      <th>V15</th>\n",
              "      <th>V16</th>\n",
              "      <th>V17</th>\n",
              "      <th>V18</th>\n",
              "      <th>V19</th>\n",
              "      <th>V20</th>\n",
              "      <th>V21</th>\n",
              "      <th>V22</th>\n",
              "      <th>V23</th>\n",
              "      <th>V24</th>\n",
              "      <th>V25</th>\n",
              "      <th>V26</th>\n",
              "      <th>V27</th>\n",
              "      <th>V28</th>\n",
              "      <th>Amount</th>\n",
              "      <th>Class</th>\n",
              "    </tr>\n",
              "  </thead>\n",
              "  <tbody>\n",
              "    <tr>\n",
              "      <th>0</th>\n",
              "      <td>0.0</td>\n",
              "      <td>-1.359807</td>\n",
              "      <td>-0.072781</td>\n",
              "      <td>2.536347</td>\n",
              "      <td>1.378155</td>\n",
              "      <td>-0.338321</td>\n",
              "      <td>0.462388</td>\n",
              "      <td>0.239599</td>\n",
              "      <td>0.098698</td>\n",
              "      <td>0.363787</td>\n",
              "      <td>0.090794</td>\n",
              "      <td>-0.551600</td>\n",
              "      <td>-0.617801</td>\n",
              "      <td>-0.991390</td>\n",
              "      <td>-0.311169</td>\n",
              "      <td>1.468177</td>\n",
              "      <td>-0.470401</td>\n",
              "      <td>0.207971</td>\n",
              "      <td>0.025791</td>\n",
              "      <td>0.403993</td>\n",
              "      <td>0.251412</td>\n",
              "      <td>-0.018307</td>\n",
              "      <td>0.277838</td>\n",
              "      <td>-0.110474</td>\n",
              "      <td>0.066928</td>\n",
              "      <td>0.128539</td>\n",
              "      <td>-0.189115</td>\n",
              "      <td>0.133558</td>\n",
              "      <td>-0.021053</td>\n",
              "      <td>149.62</td>\n",
              "      <td>0</td>\n",
              "    </tr>\n",
              "    <tr>\n",
              "      <th>1</th>\n",
              "      <td>0.0</td>\n",
              "      <td>1.191857</td>\n",
              "      <td>0.266151</td>\n",
              "      <td>0.166480</td>\n",
              "      <td>0.448154</td>\n",
              "      <td>0.060018</td>\n",
              "      <td>-0.082361</td>\n",
              "      <td>-0.078803</td>\n",
              "      <td>0.085102</td>\n",
              "      <td>-0.255425</td>\n",
              "      <td>-0.166974</td>\n",
              "      <td>1.612727</td>\n",
              "      <td>1.065235</td>\n",
              "      <td>0.489095</td>\n",
              "      <td>-0.143772</td>\n",
              "      <td>0.635558</td>\n",
              "      <td>0.463917</td>\n",
              "      <td>-0.114805</td>\n",
              "      <td>-0.183361</td>\n",
              "      <td>-0.145783</td>\n",
              "      <td>-0.069083</td>\n",
              "      <td>-0.225775</td>\n",
              "      <td>-0.638672</td>\n",
              "      <td>0.101288</td>\n",
              "      <td>-0.339846</td>\n",
              "      <td>0.167170</td>\n",
              "      <td>0.125895</td>\n",
              "      <td>-0.008983</td>\n",
              "      <td>0.014724</td>\n",
              "      <td>2.69</td>\n",
              "      <td>0</td>\n",
              "    </tr>\n",
              "    <tr>\n",
              "      <th>2</th>\n",
              "      <td>1.0</td>\n",
              "      <td>-1.358354</td>\n",
              "      <td>-1.340163</td>\n",
              "      <td>1.773209</td>\n",
              "      <td>0.379780</td>\n",
              "      <td>-0.503198</td>\n",
              "      <td>1.800499</td>\n",
              "      <td>0.791461</td>\n",
              "      <td>0.247676</td>\n",
              "      <td>-1.514654</td>\n",
              "      <td>0.207643</td>\n",
              "      <td>0.624501</td>\n",
              "      <td>0.066084</td>\n",
              "      <td>0.717293</td>\n",
              "      <td>-0.165946</td>\n",
              "      <td>2.345865</td>\n",
              "      <td>-2.890083</td>\n",
              "      <td>1.109969</td>\n",
              "      <td>-0.121359</td>\n",
              "      <td>-2.261857</td>\n",
              "      <td>0.524980</td>\n",
              "      <td>0.247998</td>\n",
              "      <td>0.771679</td>\n",
              "      <td>0.909412</td>\n",
              "      <td>-0.689281</td>\n",
              "      <td>-0.327642</td>\n",
              "      <td>-0.139097</td>\n",
              "      <td>-0.055353</td>\n",
              "      <td>-0.059752</td>\n",
              "      <td>378.66</td>\n",
              "      <td>0</td>\n",
              "    </tr>\n",
              "    <tr>\n",
              "      <th>3</th>\n",
              "      <td>1.0</td>\n",
              "      <td>-0.966272</td>\n",
              "      <td>-0.185226</td>\n",
              "      <td>1.792993</td>\n",
              "      <td>-0.863291</td>\n",
              "      <td>-0.010309</td>\n",
              "      <td>1.247203</td>\n",
              "      <td>0.237609</td>\n",
              "      <td>0.377436</td>\n",
              "      <td>-1.387024</td>\n",
              "      <td>-0.054952</td>\n",
              "      <td>-0.226487</td>\n",
              "      <td>0.178228</td>\n",
              "      <td>0.507757</td>\n",
              "      <td>-0.287924</td>\n",
              "      <td>-0.631418</td>\n",
              "      <td>-1.059647</td>\n",
              "      <td>-0.684093</td>\n",
              "      <td>1.965775</td>\n",
              "      <td>-1.232622</td>\n",
              "      <td>-0.208038</td>\n",
              "      <td>-0.108300</td>\n",
              "      <td>0.005274</td>\n",
              "      <td>-0.190321</td>\n",
              "      <td>-1.175575</td>\n",
              "      <td>0.647376</td>\n",
              "      <td>-0.221929</td>\n",
              "      <td>0.062723</td>\n",
              "      <td>0.061458</td>\n",
              "      <td>123.50</td>\n",
              "      <td>0</td>\n",
              "    </tr>\n",
              "    <tr>\n",
              "      <th>4</th>\n",
              "      <td>2.0</td>\n",
              "      <td>-1.158233</td>\n",
              "      <td>0.877737</td>\n",
              "      <td>1.548718</td>\n",
              "      <td>0.403034</td>\n",
              "      <td>-0.407193</td>\n",
              "      <td>0.095921</td>\n",
              "      <td>0.592941</td>\n",
              "      <td>-0.270533</td>\n",
              "      <td>0.817739</td>\n",
              "      <td>0.753074</td>\n",
              "      <td>-0.822843</td>\n",
              "      <td>0.538196</td>\n",
              "      <td>1.345852</td>\n",
              "      <td>-1.119670</td>\n",
              "      <td>0.175121</td>\n",
              "      <td>-0.451449</td>\n",
              "      <td>-0.237033</td>\n",
              "      <td>-0.038195</td>\n",
              "      <td>0.803487</td>\n",
              "      <td>0.408542</td>\n",
              "      <td>-0.009431</td>\n",
              "      <td>0.798278</td>\n",
              "      <td>-0.137458</td>\n",
              "      <td>0.141267</td>\n",
              "      <td>-0.206010</td>\n",
              "      <td>0.502292</td>\n",
              "      <td>0.219422</td>\n",
              "      <td>0.215153</td>\n",
              "      <td>69.99</td>\n",
              "      <td>0</td>\n",
              "    </tr>\n",
              "  </tbody>\n",
              "</table>\n",
              "</div>"
            ],
            "text/plain": [
              "   Time        V1        V2        V3  ...       V27       V28  Amount  Class\n",
              "0   0.0 -1.359807 -0.072781  2.536347  ...  0.133558 -0.021053  149.62      0\n",
              "1   0.0  1.191857  0.266151  0.166480  ... -0.008983  0.014724    2.69      0\n",
              "2   1.0 -1.358354 -1.340163  1.773209  ... -0.055353 -0.059752  378.66      0\n",
              "3   1.0 -0.966272 -0.185226  1.792993  ...  0.062723  0.061458  123.50      0\n",
              "4   2.0 -1.158233  0.877737  1.548718  ...  0.219422  0.215153   69.99      0\n",
              "\n",
              "[5 rows x 31 columns]"
            ]
          },
          "metadata": {
            "tags": []
          },
          "execution_count": 55
        }
      ]
    },
    {
      "cell_type": "code",
      "metadata": {
        "id": "hBNRAJgvZYDa"
      },
      "source": [
        "from sklearn.model_selection import train_test_split"
      ],
      "execution_count": null,
      "outputs": []
    },
    {
      "cell_type": "code",
      "metadata": {
        "id": "YnX2yY0UZ2Rd"
      },
      "source": [
        "non_fraud = df[df[\"Class\"]==0]\n",
        "fraud = df[df[\"Class\"]==1]\n",
        "#non_fraud = non_fraud.sample(2*fraud.shape[0])\n",
        "non_fraud = non_fraud.sample(fraud.shape[0])\n",
        "data = fraud.append(non_fraud,ignore_index=True)\n",
        "x_data = data.drop(columns=\"Class\",axis=0)\n",
        "label = data[\"Class\"]"
      ],
      "execution_count": null,
      "outputs": []
    },
    {
      "cell_type": "code",
      "metadata": {
        "id": "wlG4ZsO4bFJc"
      },
      "source": [
        "train_data,test_data,train_label,test_label= train_test_split(x_data,label,test_size=0.3,random_state=42,stratify=label)"
      ],
      "execution_count": null,
      "outputs": []
    },
    {
      "cell_type": "code",
      "metadata": {
        "colab": {
          "base_uri": "https://localhost:8080/"
        },
        "id": "URSxEWMddyDV",
        "outputId": "5a705e5d-6aa2-44d3-9c9d-06329e7a9a5d"
      },
      "source": [
        "mean=train_data.loc[:,['Time','Amount']].mean(axis=0)\n",
        "train_data.loc[:,['Time','Amount']] -= mean\n",
        "std = train_data.loc[:,['Time','Amount']].std(axis=0)\n",
        "train_data.loc[:,['Time','Amount']] /= std\n",
        "test_data.loc[:,['Time','Amount']] -= mean\n",
        "test_data.loc[:,['Time','Amount']] /= std"
      ],
      "execution_count": null,
      "outputs": [
        {
          "output_type": "stream",
          "text": [
            "/usr/local/lib/python3.7/dist-packages/pandas/core/indexing.py:670: SettingWithCopyWarning: \n",
            "A value is trying to be set on a copy of a slice from a DataFrame\n",
            "\n",
            "See the caveats in the documentation: https://pandas.pydata.org/pandas-docs/stable/user_guide/indexing.html#returning-a-view-versus-a-copy\n",
            "  iloc._setitem_with_indexer(indexer, value)\n",
            "/usr/local/lib/python3.7/dist-packages/ipykernel_launcher.py:2: SettingWithCopyWarning: \n",
            "A value is trying to be set on a copy of a slice from a DataFrame\n",
            "\n",
            "See the caveats in the documentation: https://pandas.pydata.org/pandas-docs/stable/user_guide/indexing.html#returning-a-view-versus-a-copy\n",
            "  \n",
            "/usr/local/lib/python3.7/dist-packages/ipykernel_launcher.py:4: SettingWithCopyWarning: \n",
            "A value is trying to be set on a copy of a slice from a DataFrame\n",
            "\n",
            "See the caveats in the documentation: https://pandas.pydata.org/pandas-docs/stable/user_guide/indexing.html#returning-a-view-versus-a-copy\n",
            "  after removing the cwd from sys.path.\n",
            "/usr/local/lib/python3.7/dist-packages/ipykernel_launcher.py:5: SettingWithCopyWarning: \n",
            "A value is trying to be set on a copy of a slice from a DataFrame\n",
            "\n",
            "See the caveats in the documentation: https://pandas.pydata.org/pandas-docs/stable/user_guide/indexing.html#returning-a-view-versus-a-copy\n",
            "  \"\"\"\n",
            "/usr/local/lib/python3.7/dist-packages/ipykernel_launcher.py:6: SettingWithCopyWarning: \n",
            "A value is trying to be set on a copy of a slice from a DataFrame\n",
            "\n",
            "See the caveats in the documentation: https://pandas.pydata.org/pandas-docs/stable/user_guide/indexing.html#returning-a-view-versus-a-copy\n",
            "  \n"
          ],
          "name": "stderr"
        }
      ]
    },
    {
      "cell_type": "code",
      "metadata": {
        "id": "YPVEoq8g6Czv"
      },
      "source": [
        "#print(train.shape)\n",
        "#print(test.shape)\n",
        "train_label = np.asarray(train_label).astype(dtype=\"float64\")\n",
        "test_label = np.array(test_label).astype(dtype=\"float64\")"
      ],
      "execution_count": null,
      "outputs": []
    },
    {
      "cell_type": "code",
      "metadata": {
        "colab": {
          "base_uri": "https://localhost:8080/"
        },
        "id": "XfmqbPCx9HUm",
        "outputId": "a80279fa-76c0-41c3-9204-6e916a95592c"
      },
      "source": [
        "test_data.dtypes"
      ],
      "execution_count": null,
      "outputs": [
        {
          "output_type": "execute_result",
          "data": {
            "text/plain": [
              "Time      float64\n",
              "V1        float64\n",
              "V2        float64\n",
              "V3        float64\n",
              "V4        float64\n",
              "V5        float64\n",
              "V6        float64\n",
              "V7        float64\n",
              "V8        float64\n",
              "V9        float64\n",
              "V10       float64\n",
              "V11       float64\n",
              "V12       float64\n",
              "V13       float64\n",
              "V14       float64\n",
              "V15       float64\n",
              "V16       float64\n",
              "V17       float64\n",
              "V18       float64\n",
              "V19       float64\n",
              "V20       float64\n",
              "V21       float64\n",
              "V22       float64\n",
              "V23       float64\n",
              "V24       float64\n",
              "V25       float64\n",
              "V26       float64\n",
              "V27       float64\n",
              "V28       float64\n",
              "Amount    float64\n",
              "dtype: object"
            ]
          },
          "metadata": {
            "tags": []
          },
          "execution_count": 121
        }
      ]
    },
    {
      "cell_type": "code",
      "metadata": {
        "id": "yxLL9qCH9baT"
      },
      "source": [
        "#Build Model\n",
        "from keras import models,layers\n",
        "model = models.Sequential()\n",
        "model.add(layers.Dense(20,activation='relu',input_shape=(train_data.shape[1],)))\n",
        "model.add(layers.Dense(10,activation='relu',))\n",
        "model.add(layers.Dense(8,activation='relu'))\n",
        "#model.add(layers.Dropout(0.5))\n",
        "model.add(layers.Dense(6,activation='relu'))\n",
        "#model.add(layers.Dropout(0.5))\n",
        "model.add(layers.Dense(1,activation='sigmoid'))"
      ],
      "execution_count": null,
      "outputs": []
    },
    {
      "cell_type": "code",
      "metadata": {
        "id": "-6gsLXMb_Of_"
      },
      "source": [
        "model.compile(loss='binary_crossentropy',optimizer='adam',metrics=['accuracy'])"
      ],
      "execution_count": null,
      "outputs": []
    },
    {
      "cell_type": "code",
      "metadata": {
        "colab": {
          "base_uri": "https://localhost:8080/"
        },
        "id": "ptUGl2c0_jaW",
        "outputId": "26c3267b-6a02-451d-a016-86ce0aff3fb6"
      },
      "source": [
        "history = model.fit(train_data,train_label,epochs=100,validation_split=0.2)"
      ],
      "execution_count": null,
      "outputs": [
        {
          "output_type": "stream",
          "text": [
            "Epoch 1/100\n",
            "18/18 [==============================] - 1s 16ms/step - loss: 0.6275 - accuracy: 0.6201 - val_loss: 0.5558 - val_accuracy: 0.6449\n",
            "Epoch 2/100\n",
            "18/18 [==============================] - 0s 4ms/step - loss: 0.5514 - accuracy: 0.6639 - val_loss: 0.4900 - val_accuracy: 0.6739\n",
            "Epoch 3/100\n",
            "18/18 [==============================] - 0s 4ms/step - loss: 0.4879 - accuracy: 0.7315 - val_loss: 0.4440 - val_accuracy: 0.7319\n",
            "Epoch 4/100\n",
            "18/18 [==============================] - 0s 4ms/step - loss: 0.4390 - accuracy: 0.8044 - val_loss: 0.4089 - val_accuracy: 0.8188\n",
            "Epoch 5/100\n",
            "18/18 [==============================] - 0s 4ms/step - loss: 0.4034 - accuracy: 0.8756 - val_loss: 0.3725 - val_accuracy: 0.9130\n",
            "Epoch 6/100\n",
            "18/18 [==============================] - 0s 4ms/step - loss: 0.3700 - accuracy: 0.9002 - val_loss: 0.3273 - val_accuracy: 0.9203\n",
            "Epoch 7/100\n",
            "18/18 [==============================] - 0s 5ms/step - loss: 0.3318 - accuracy: 0.9210 - val_loss: 0.2666 - val_accuracy: 0.9203\n",
            "Epoch 8/100\n",
            "18/18 [==============================] - 0s 4ms/step - loss: 0.2422 - accuracy: 0.9458 - val_loss: 0.2107 - val_accuracy: 0.9275\n",
            "Epoch 9/100\n",
            "18/18 [==============================] - 0s 5ms/step - loss: 0.1939 - accuracy: 0.9505 - val_loss: 0.1743 - val_accuracy: 0.9275\n",
            "Epoch 10/100\n",
            "18/18 [==============================] - 0s 4ms/step - loss: 0.1669 - accuracy: 0.9590 - val_loss: 0.1588 - val_accuracy: 0.9348\n",
            "Epoch 11/100\n",
            "18/18 [==============================] - 0s 4ms/step - loss: 0.1388 - accuracy: 0.9698 - val_loss: 0.1532 - val_accuracy: 0.9348\n",
            "Epoch 12/100\n",
            "18/18 [==============================] - 0s 5ms/step - loss: 0.1239 - accuracy: 0.9611 - val_loss: 0.1497 - val_accuracy: 0.9348\n",
            "Epoch 13/100\n",
            "18/18 [==============================] - 0s 4ms/step - loss: 0.1165 - accuracy: 0.9609 - val_loss: 0.1492 - val_accuracy: 0.9348\n",
            "Epoch 14/100\n",
            "18/18 [==============================] - 0s 5ms/step - loss: 0.1138 - accuracy: 0.9569 - val_loss: 0.1481 - val_accuracy: 0.9348\n",
            "Epoch 15/100\n",
            "18/18 [==============================] - 0s 4ms/step - loss: 0.1116 - accuracy: 0.9536 - val_loss: 0.1494 - val_accuracy: 0.9348\n",
            "Epoch 16/100\n",
            "18/18 [==============================] - 0s 4ms/step - loss: 0.0967 - accuracy: 0.9606 - val_loss: 0.1513 - val_accuracy: 0.9348\n",
            "Epoch 17/100\n",
            "18/18 [==============================] - 0s 5ms/step - loss: 0.0861 - accuracy: 0.9645 - val_loss: 0.1539 - val_accuracy: 0.9348\n",
            "Epoch 18/100\n",
            "18/18 [==============================] - 0s 5ms/step - loss: 0.0875 - accuracy: 0.9656 - val_loss: 0.1548 - val_accuracy: 0.9348\n",
            "Epoch 19/100\n",
            "18/18 [==============================] - 0s 4ms/step - loss: 0.0864 - accuracy: 0.9601 - val_loss: 0.1565 - val_accuracy: 0.9420\n",
            "Epoch 20/100\n",
            "18/18 [==============================] - 0s 4ms/step - loss: 0.0740 - accuracy: 0.9686 - val_loss: 0.1592 - val_accuracy: 0.9348\n",
            "Epoch 21/100\n",
            "18/18 [==============================] - 0s 5ms/step - loss: 0.0722 - accuracy: 0.9743 - val_loss: 0.1646 - val_accuracy: 0.9348\n",
            "Epoch 22/100\n",
            "18/18 [==============================] - 0s 5ms/step - loss: 0.0739 - accuracy: 0.9737 - val_loss: 0.1721 - val_accuracy: 0.9348\n",
            "Epoch 23/100\n",
            "18/18 [==============================] - 0s 4ms/step - loss: 0.0672 - accuracy: 0.9751 - val_loss: 0.1707 - val_accuracy: 0.9348\n",
            "Epoch 24/100\n",
            "18/18 [==============================] - 0s 5ms/step - loss: 0.0534 - accuracy: 0.9792 - val_loss: 0.1746 - val_accuracy: 0.9348\n",
            "Epoch 25/100\n",
            "18/18 [==============================] - 0s 5ms/step - loss: 0.0552 - accuracy: 0.9777 - val_loss: 0.1770 - val_accuracy: 0.9420\n",
            "Epoch 26/100\n",
            "18/18 [==============================] - 0s 4ms/step - loss: 0.0379 - accuracy: 0.9904 - val_loss: 0.1847 - val_accuracy: 0.9420\n",
            "Epoch 27/100\n",
            "18/18 [==============================] - 0s 5ms/step - loss: 0.0501 - accuracy: 0.9786 - val_loss: 0.1840 - val_accuracy: 0.9348\n",
            "Epoch 28/100\n",
            "18/18 [==============================] - 0s 5ms/step - loss: 0.0432 - accuracy: 0.9859 - val_loss: 0.1820 - val_accuracy: 0.9348\n",
            "Epoch 29/100\n",
            "18/18 [==============================] - 0s 5ms/step - loss: 0.0507 - accuracy: 0.9836 - val_loss: 0.1838 - val_accuracy: 0.9348\n",
            "Epoch 30/100\n",
            "18/18 [==============================] - 0s 5ms/step - loss: 0.0326 - accuracy: 0.9957 - val_loss: 0.1884 - val_accuracy: 0.9348\n",
            "Epoch 31/100\n",
            "18/18 [==============================] - 0s 5ms/step - loss: 0.0430 - accuracy: 0.9896 - val_loss: 0.1900 - val_accuracy: 0.9348\n",
            "Epoch 32/100\n",
            "18/18 [==============================] - 0s 5ms/step - loss: 0.0463 - accuracy: 0.9852 - val_loss: 0.1902 - val_accuracy: 0.9420\n",
            "Epoch 33/100\n",
            "18/18 [==============================] - 0s 5ms/step - loss: 0.0386 - accuracy: 0.9912 - val_loss: 0.1909 - val_accuracy: 0.9348\n",
            "Epoch 34/100\n",
            "18/18 [==============================] - 0s 5ms/step - loss: 0.0425 - accuracy: 0.9907 - val_loss: 0.1947 - val_accuracy: 0.9348\n",
            "Epoch 35/100\n",
            "18/18 [==============================] - 0s 5ms/step - loss: 0.0375 - accuracy: 0.9892 - val_loss: 0.1965 - val_accuracy: 0.9348\n",
            "Epoch 36/100\n",
            "18/18 [==============================] - 0s 5ms/step - loss: 0.0305 - accuracy: 0.9931 - val_loss: 0.2004 - val_accuracy: 0.9348\n",
            "Epoch 37/100\n",
            "18/18 [==============================] - 0s 4ms/step - loss: 0.0396 - accuracy: 0.9904 - val_loss: 0.2030 - val_accuracy: 0.9348\n",
            "Epoch 38/100\n",
            "18/18 [==============================] - 0s 4ms/step - loss: 0.0253 - accuracy: 0.9935 - val_loss: 0.2089 - val_accuracy: 0.9348\n",
            "Epoch 39/100\n",
            "18/18 [==============================] - 0s 5ms/step - loss: 0.0267 - accuracy: 0.9922 - val_loss: 0.2130 - val_accuracy: 0.9348\n",
            "Epoch 40/100\n",
            "18/18 [==============================] - 0s 4ms/step - loss: 0.0256 - accuracy: 0.9957 - val_loss: 0.2143 - val_accuracy: 0.9348\n",
            "Epoch 41/100\n",
            "18/18 [==============================] - 0s 5ms/step - loss: 0.0250 - accuracy: 0.9945 - val_loss: 0.2185 - val_accuracy: 0.9348\n",
            "Epoch 42/100\n",
            "18/18 [==============================] - 0s 5ms/step - loss: 0.0267 - accuracy: 0.9940 - val_loss: 0.2192 - val_accuracy: 0.9348\n",
            "Epoch 43/100\n",
            "18/18 [==============================] - 0s 5ms/step - loss: 0.0327 - accuracy: 0.9905 - val_loss: 0.2256 - val_accuracy: 0.9348\n",
            "Epoch 44/100\n",
            "18/18 [==============================] - 0s 5ms/step - loss: 0.0313 - accuracy: 0.9883 - val_loss: 0.2241 - val_accuracy: 0.9348\n",
            "Epoch 45/100\n",
            "18/18 [==============================] - 0s 5ms/step - loss: 0.0217 - accuracy: 0.9930 - val_loss: 0.2303 - val_accuracy: 0.9348\n",
            "Epoch 46/100\n",
            "18/18 [==============================] - 0s 4ms/step - loss: 0.0320 - accuracy: 0.9857 - val_loss: 0.2327 - val_accuracy: 0.9348\n",
            "Epoch 47/100\n",
            "18/18 [==============================] - 0s 4ms/step - loss: 0.0219 - accuracy: 0.9949 - val_loss: 0.2374 - val_accuracy: 0.9348\n",
            "Epoch 48/100\n",
            "18/18 [==============================] - 0s 4ms/step - loss: 0.0203 - accuracy: 0.9938 - val_loss: 0.2375 - val_accuracy: 0.9348\n",
            "Epoch 49/100\n",
            "18/18 [==============================] - 0s 4ms/step - loss: 0.0172 - accuracy: 0.9972 - val_loss: 0.2405 - val_accuracy: 0.9348\n",
            "Epoch 50/100\n",
            "18/18 [==============================] - 0s 4ms/step - loss: 0.0118 - accuracy: 0.9963 - val_loss: 0.2445 - val_accuracy: 0.9348\n",
            "Epoch 51/100\n",
            "18/18 [==============================] - 0s 4ms/step - loss: 0.0150 - accuracy: 0.9945 - val_loss: 0.2453 - val_accuracy: 0.9348\n",
            "Epoch 52/100\n",
            "18/18 [==============================] - 0s 4ms/step - loss: 0.0201 - accuracy: 0.9909 - val_loss: 0.2462 - val_accuracy: 0.9348\n",
            "Epoch 53/100\n",
            "18/18 [==============================] - 0s 4ms/step - loss: 0.0132 - accuracy: 0.9941 - val_loss: 0.2539 - val_accuracy: 0.9348\n",
            "Epoch 54/100\n",
            "18/18 [==============================] - 0s 5ms/step - loss: 0.0207 - accuracy: 0.9918 - val_loss: 0.2564 - val_accuracy: 0.9348\n",
            "Epoch 55/100\n",
            "18/18 [==============================] - 0s 4ms/step - loss: 0.0167 - accuracy: 0.9934 - val_loss: 0.2564 - val_accuracy: 0.9348\n",
            "Epoch 56/100\n",
            "18/18 [==============================] - 0s 5ms/step - loss: 0.0206 - accuracy: 0.9908 - val_loss: 0.2577 - val_accuracy: 0.9348\n",
            "Epoch 57/100\n",
            "18/18 [==============================] - 0s 4ms/step - loss: 0.0148 - accuracy: 0.9976 - val_loss: 0.2612 - val_accuracy: 0.9348\n",
            "Epoch 58/100\n",
            "18/18 [==============================] - 0s 5ms/step - loss: 0.0153 - accuracy: 0.9961 - val_loss: 0.2610 - val_accuracy: 0.9275\n",
            "Epoch 59/100\n",
            "18/18 [==============================] - 0s 5ms/step - loss: 0.0115 - accuracy: 0.9989 - val_loss: 0.2632 - val_accuracy: 0.9275\n",
            "Epoch 60/100\n",
            "18/18 [==============================] - 0s 4ms/step - loss: 0.0123 - accuracy: 0.9982 - val_loss: 0.2679 - val_accuracy: 0.9275\n",
            "Epoch 61/100\n",
            "18/18 [==============================] - 0s 4ms/step - loss: 0.0114 - accuracy: 0.9971 - val_loss: 0.2726 - val_accuracy: 0.9275\n",
            "Epoch 62/100\n",
            "18/18 [==============================] - 0s 4ms/step - loss: 0.0102 - accuracy: 1.0000 - val_loss: 0.2721 - val_accuracy: 0.9275\n",
            "Epoch 63/100\n",
            "18/18 [==============================] - 0s 4ms/step - loss: 0.0080 - accuracy: 0.9998 - val_loss: 0.2769 - val_accuracy: 0.9275\n",
            "Epoch 64/100\n",
            "18/18 [==============================] - 0s 5ms/step - loss: 0.0080 - accuracy: 1.0000 - val_loss: 0.2748 - val_accuracy: 0.9203\n",
            "Epoch 65/100\n",
            "18/18 [==============================] - 0s 4ms/step - loss: 0.0109 - accuracy: 0.9966 - val_loss: 0.2722 - val_accuracy: 0.9348\n",
            "Epoch 66/100\n",
            "18/18 [==============================] - 0s 4ms/step - loss: 0.0084 - accuracy: 1.0000 - val_loss: 0.2767 - val_accuracy: 0.9348\n",
            "Epoch 67/100\n",
            "18/18 [==============================] - 0s 4ms/step - loss: 0.0092 - accuracy: 1.0000 - val_loss: 0.2824 - val_accuracy: 0.9348\n",
            "Epoch 68/100\n",
            "18/18 [==============================] - 0s 5ms/step - loss: 0.0085 - accuracy: 1.0000 - val_loss: 0.2877 - val_accuracy: 0.9348\n",
            "Epoch 69/100\n",
            "18/18 [==============================] - 0s 5ms/step - loss: 0.0083 - accuracy: 1.0000 - val_loss: 0.2943 - val_accuracy: 0.9348\n",
            "Epoch 70/100\n",
            "18/18 [==============================] - 0s 5ms/step - loss: 0.0061 - accuracy: 1.0000 - val_loss: 0.2988 - val_accuracy: 0.9348\n",
            "Epoch 71/100\n",
            "18/18 [==============================] - 0s 5ms/step - loss: 0.0048 - accuracy: 1.0000 - val_loss: 0.3037 - val_accuracy: 0.9348\n",
            "Epoch 72/100\n",
            "18/18 [==============================] - 0s 4ms/step - loss: 0.0067 - accuracy: 1.0000 - val_loss: 0.3083 - val_accuracy: 0.9348\n",
            "Epoch 73/100\n",
            "18/18 [==============================] - 0s 5ms/step - loss: 0.0065 - accuracy: 1.0000 - val_loss: 0.3142 - val_accuracy: 0.9348\n",
            "Epoch 74/100\n",
            "18/18 [==============================] - 0s 4ms/step - loss: 0.0078 - accuracy: 1.0000 - val_loss: 0.3151 - val_accuracy: 0.9348\n",
            "Epoch 75/100\n",
            "18/18 [==============================] - 0s 4ms/step - loss: 0.0063 - accuracy: 1.0000 - val_loss: 0.3184 - val_accuracy: 0.9348\n",
            "Epoch 76/100\n",
            "18/18 [==============================] - 0s 5ms/step - loss: 0.0048 - accuracy: 1.0000 - val_loss: 0.3189 - val_accuracy: 0.9348\n",
            "Epoch 77/100\n",
            "18/18 [==============================] - 0s 4ms/step - loss: 0.0043 - accuracy: 1.0000 - val_loss: 0.3240 - val_accuracy: 0.9348\n",
            "Epoch 78/100\n",
            "18/18 [==============================] - 0s 4ms/step - loss: 0.0050 - accuracy: 1.0000 - val_loss: 0.3294 - val_accuracy: 0.9348\n",
            "Epoch 79/100\n",
            "18/18 [==============================] - 0s 4ms/step - loss: 0.0051 - accuracy: 1.0000 - val_loss: 0.3316 - val_accuracy: 0.9348\n",
            "Epoch 80/100\n",
            "18/18 [==============================] - 0s 5ms/step - loss: 0.0029 - accuracy: 1.0000 - val_loss: 0.3339 - val_accuracy: 0.9348\n",
            "Epoch 81/100\n",
            "18/18 [==============================] - 0s 4ms/step - loss: 0.0046 - accuracy: 1.0000 - val_loss: 0.3391 - val_accuracy: 0.9348\n",
            "Epoch 82/100\n",
            "18/18 [==============================] - 0s 5ms/step - loss: 0.0037 - accuracy: 1.0000 - val_loss: 0.3428 - val_accuracy: 0.9348\n",
            "Epoch 83/100\n",
            "18/18 [==============================] - 0s 5ms/step - loss: 0.0042 - accuracy: 1.0000 - val_loss: 0.3457 - val_accuracy: 0.9348\n",
            "Epoch 84/100\n",
            "18/18 [==============================] - 0s 4ms/step - loss: 0.0058 - accuracy: 1.0000 - val_loss: 0.3491 - val_accuracy: 0.9348\n",
            "Epoch 85/100\n",
            "18/18 [==============================] - 0s 4ms/step - loss: 0.0033 - accuracy: 1.0000 - val_loss: 0.3535 - val_accuracy: 0.9348\n",
            "Epoch 86/100\n",
            "18/18 [==============================] - 0s 5ms/step - loss: 0.0034 - accuracy: 1.0000 - val_loss: 0.3574 - val_accuracy: 0.9348\n",
            "Epoch 87/100\n",
            "18/18 [==============================] - 0s 5ms/step - loss: 0.0029 - accuracy: 1.0000 - val_loss: 0.3606 - val_accuracy: 0.9348\n",
            "Epoch 88/100\n",
            "18/18 [==============================] - 0s 4ms/step - loss: 0.0045 - accuracy: 1.0000 - val_loss: 0.3652 - val_accuracy: 0.9348\n",
            "Epoch 89/100\n",
            "18/18 [==============================] - 0s 5ms/step - loss: 0.0032 - accuracy: 1.0000 - val_loss: 0.3676 - val_accuracy: 0.9348\n",
            "Epoch 90/100\n",
            "18/18 [==============================] - 0s 5ms/step - loss: 0.0040 - accuracy: 1.0000 - val_loss: 0.3694 - val_accuracy: 0.9348\n",
            "Epoch 91/100\n",
            "18/18 [==============================] - 0s 5ms/step - loss: 0.0030 - accuracy: 1.0000 - val_loss: 0.3730 - val_accuracy: 0.9348\n",
            "Epoch 92/100\n",
            "18/18 [==============================] - 0s 5ms/step - loss: 0.0027 - accuracy: 1.0000 - val_loss: 0.3806 - val_accuracy: 0.9348\n",
            "Epoch 93/100\n",
            "18/18 [==============================] - 0s 4ms/step - loss: 0.0031 - accuracy: 1.0000 - val_loss: 0.3823 - val_accuracy: 0.9348\n",
            "Epoch 94/100\n",
            "18/18 [==============================] - 0s 5ms/step - loss: 0.0026 - accuracy: 1.0000 - val_loss: 0.3843 - val_accuracy: 0.9348\n",
            "Epoch 95/100\n",
            "18/18 [==============================] - 0s 5ms/step - loss: 0.0017 - accuracy: 1.0000 - val_loss: 0.3881 - val_accuracy: 0.9348\n",
            "Epoch 96/100\n",
            "18/18 [==============================] - 0s 4ms/step - loss: 0.0020 - accuracy: 1.0000 - val_loss: 0.3905 - val_accuracy: 0.9348\n",
            "Epoch 97/100\n",
            "18/18 [==============================] - 0s 4ms/step - loss: 0.0024 - accuracy: 1.0000 - val_loss: 0.3950 - val_accuracy: 0.9348\n",
            "Epoch 98/100\n",
            "18/18 [==============================] - 0s 4ms/step - loss: 0.0020 - accuracy: 1.0000 - val_loss: 0.3970 - val_accuracy: 0.9348\n",
            "Epoch 99/100\n",
            "18/18 [==============================] - 0s 5ms/step - loss: 0.0019 - accuracy: 1.0000 - val_loss: 0.3993 - val_accuracy: 0.9348\n",
            "Epoch 100/100\n",
            "18/18 [==============================] - 0s 4ms/step - loss: 0.0017 - accuracy: 1.0000 - val_loss: 0.4023 - val_accuracy: 0.9348\n"
          ],
          "name": "stdout"
        }
      ]
    },
    {
      "cell_type": "code",
      "metadata": {
        "id": "2M5OCOUov52F",
        "colab": {
          "base_uri": "https://localhost:8080/",
          "height": 279
        },
        "outputId": "912e99d3-75b4-46d2-94c4-88f67faadf34"
      },
      "source": [
        "import matplotlib.pyplot as plt\n",
        "\n",
        "loss = history.history[\"loss\"]\n",
        "val_loss = history.history[\"val_loss\"]\n",
        "epochs=range(1,len(loss)+1)\n",
        "plt.plot(epochs,loss,\"bo\",label=\"Training Loss\")\n",
        "plt.plot(epochs,val_loss,\"b\",label=\"Validation Loss\")\n",
        "plt.xlabel(\"Epochs\")\n",
        "plt.ylabel(\"Loss\")\n",
        "plt.legend()\n",
        "plt.show()\n",
        "\n",
        "\n"
      ],
      "execution_count": null,
      "outputs": [
        {
          "output_type": "display_data",
          "data": {
            "image/png": "[encoded data removed]",
            "text/plain": [
              "<Figure size 432x288 with 1 Axes>"
            ]
          },
          "metadata": {
            "tags": [],
            "needs_background": "light"
          }
        }
      ]
    },
    {
      "cell_type": "code",
      "metadata": {
        "colab": {
          "base_uri": "https://localhost:8080/",
          "height": 279
        },
        "id": "i_UNURTd1fgQ",
        "outputId": "cbe24fa2-fbdc-45a5-a5f3-7b6ee98d514e"
      },
      "source": [
        "acc= history.history[\"accuracy\"]\n",
        "val_accuracy = history.history[\"val_accuracy\"]\n",
        "epochs=range(1,len(acc)+1)\n",
        "plt.plot(epochs,acc,\"bo\",label=\"Training Accuracy\")\n",
        "plt.plot(epochs,val_accuracy,\"b\",label=\"Validation Accuracy\")\n",
        "plt.xlabel(\"Epochs\")\n",
        "plt.ylabel(\"acc\")\n",
        "plt.legend()\n",
        "plt.show()\n",
        "\n"
      ],
      "execution_count": null,
      "outputs": [
        {
          "output_type": "display_data",
          "data": {
            "image/png": "[encoded data removed]",
            "text/plain": [
              "<Figure size 432x288 with 1 Axes>"
            ]
          },
          "metadata": {
            "tags": [],
            "needs_background": "light"
          }
        }
      ]
    },
    {
      "cell_type": "code",
      "metadata": {
        "colab": {
          "base_uri": "https://localhost:8080/"
        },
        "id": "C-nBqhFTMZ2r",
        "outputId": "819f3f3d-5bb9-4b1e-b8bb-53501b985c86"
      },
      "source": [
        "loss,accuracy=model.evaluate(test_data,test_label)"
      ],
      "execution_count": null,
      "outputs": [
        {
          "output_type": "stream",
          "text": [
            "10/10 [==============================] - 0s 2ms/step - loss: 0.6590 - accuracy: 0.9324\n"
          ],
          "name": "stdout"
        }
      ]
    },
    {
      "cell_type": "code",
      "metadata": {
        "colab": {
          "base_uri": "https://localhost:8080/"
        },
        "id": "WApIjZ_MNI0s",
        "outputId": "8e4db1a4-6c7c-47a4-b102-dbdca3ecb651"
      },
      "source": [
        "model.predict(np.array(test_data.iloc[1,:]).reshape(1,test_data.shape[1]))"
      ],
      "execution_count": null,
      "outputs": [
        {
          "output_type": "execute_result",
          "data": {
            "text/plain": [
              "array([[9.1027755e-07]], dtype=float32)"
            ]
          },
          "metadata": {
            "tags": []
          },
          "execution_count": 188
        }
      ]
    },
    {
      "cell_type": "code",
      "metadata": {
        "id": "SIWDyUhjiubN"
      },
      "source": [
        "prediction = model.predict(test_data).astype(dtype=\"u8\")"
      ],
      "execution_count": null,
      "outputs": []
    },
    {
      "cell_type": "code",
      "metadata": {
        "colab": {
          "base_uri": "https://localhost:8080/"
        },
        "id": "c3nIDWwE1D3c",
        "outputId": "b99d25eb-1914-4bce-e734-8e5d4977988e"
      },
      "source": [
        "prediction[30:45]"
      ],
      "execution_count": null,
      "outputs": [
        {
          "output_type": "execute_result",
          "data": {
            "text/plain": [
              "array([[1],\n",
              "       [1],\n",
              "       [0],\n",
              "       [1],\n",
              "       [0],\n",
              "       [0],\n",
              "       [0],\n",
              "       [0],\n",
              "       [0],\n",
              "       [1],\n",
              "       [1],\n",
              "       [0],\n",
              "       [1],\n",
              "       [1],\n",
              "       [0]], dtype=uint64)"
            ]
          },
          "metadata": {
            "tags": []
          },
          "execution_count": 192
        }
      ]
    },
    {
      "cell_type": "code",
      "metadata": {
        "colab": {
          "base_uri": "https://localhost:8080/"
        },
        "id": "uj8PeWnti4iM",
        "outputId": "b44ae1bd-8ae3-405d-ffce-f08cd9fa2a72"
      },
      "source": [
        "test_label[30:45]"
      ],
      "execution_count": null,
      "outputs": [
        {
          "output_type": "execute_result",
          "data": {
            "text/plain": [
              "array([1., 1., 0., 1., 1., 0., 1., 0., 0., 1., 1., 0., 1., 1., 0.])"
            ]
          },
          "metadata": {
            "tags": []
          },
          "execution_count": 194
        }
      ]
    }
  ]
}