{
  "nbformat": 4,
  "nbformat_minor": 0,
  "metadata": {
    "colab": {
      "name": "Assignment#3PIAICFlowerRecognition.ipynb",
      "provenance": [],
      "collapsed_sections": []
    },
    "kernelspec": {
      "name": "python3",
      "display_name": "Python 3"
    },
    "language_info": {
      "name": "python"
    }
  },
  "cells": [
    {
      "cell_type": "code",
      "metadata": {
        "id": "iiMSrfBSEeEh"
      },
      "source": [
        "import pandas as pd\n",
        "import matplotlib.pyplot as plt\n",
        "import skimage.io\n",
        "import os \n",
        "import tqdm\n",
        "import glob\n",
        "import tensorflow \n",
        " \n",
        "from tqdm import tqdm\n",
        "from sklearn.utils import shuffle\n",
        "from sklearn.model_selection import train_test_split\n",
        " \n",
        "from skimage.io import imread, imshow\n",
        "from skimage.transform import resize\n",
        "from skimage.color import grey2rgb\n",
        " \n",
        "from tensorflow.keras.preprocessing.image import ImageDataGenerator\n",
        "from tensorflow.keras.models import Sequential\n",
        "from tensorflow.keras.layers import InputLayer, BatchNormalization, Dropout, Flatten, Dense, Activation, MaxPool2D, Conv2D\n",
        "from tensorflow.keras.callbacks import EarlyStopping, ModelCheckpoint\n",
        "from tensorflow.keras.optimizers import  RMSprop\n",
        "from tensorflow.keras.preprocessing.image import load_img, img_to_array"
      ],
      "execution_count": null,
      "outputs": []
    },
    {
      "cell_type": "code",
      "metadata": {
        "colab": {
          "base_uri": "https://localhost:8080/"
        },
        "id": "F0CXq-8NeuWp",
        "outputId": "89173e21-1abe-44bc-efea-c0c2e6002228"
      },
      "source": [
        "from google.colab import drive\n",
        "drive.mount('/content/drive/')"
      ],
      "execution_count": null,
      "outputs": [
        {
          "output_type": "stream",
          "text": [
            "Mounted at /content/drive/\n"
          ],
          "name": "stdout"
        }
      ]
    },
    {
      "cell_type": "code",
      "metadata": {
        "id": "J2GVT2gssQbF"
      },
      "source": [
        "train_datagen = ImageDataGenerator(rescale=1./255,\n",
        "                                   shear_range = 0.4,\n",
        "                                   zoom_range=0.1,\n",
        "                                   validation_split=0.4,\n",
        "                                   horizontal_flip=True,)"
      ],
      "execution_count": null,
      "outputs": []
    },
    {
      "cell_type": "code",
      "metadata": {
        "colab": {
          "base_uri": "https://localhost:8080/"
        },
        "id": "k7CnnsW8mZhZ",
        "outputId": "d16e2961-6a76-469e-fad4-cd0186cb5737"
      },
      "source": [
        "train_gernator = train_datagen.flow_from_directory(\"/content/drive/MyDrive/flowers\",\n",
        "                                                   target_size=(180,180),\n",
        "                                                   batch_size=20,\n",
        "                                                   class_mode='categorical',\n",
        "                                                   subset='training',\n",
        "                                                   shuffle=True)"
      ],
      "execution_count": null,
      "outputs": [
        {
          "output_type": "stream",
          "text": [
            "Found 2599 images belonging to 5 classes.\n"
          ],
          "name": "stdout"
        }
      ]
    },
    {
      "cell_type": "code",
      "metadata": {
        "colab": {
          "base_uri": "https://localhost:8080/"
        },
        "id": "5WuhYiBUy6Ji",
        "outputId": "87efcd5a-0281-43a8-d272-5200e3e66f83"
      },
      "source": [
        "validation_gernator = train_datagen.flow_from_directory(\"/content/drive/MyDrive/flowers\",\n",
        "                                                   target_size=(180,180),\n",
        "                                                   batch_size=20,\n",
        "                                                   class_mode='categorical',\n",
        "                                                   subset='validation',\n",
        "                                                   shuffle=True)"
      ],
      "execution_count": null,
      "outputs": [
        {
          "output_type": "stream",
          "text": [
            "Found 1728 images belonging to 5 classes.\n"
          ],
          "name": "stdout"
        }
      ]
    },
    {
      "cell_type": "code",
      "metadata": {
        "colab": {
          "base_uri": "https://localhost:8080/"
        },
        "id": "5GA4koQhJZxe",
        "outputId": "ceaa6009-0c69-4755-8419-3b4674071e61"
      },
      "source": [
        "validation_gernator[2][1]"
      ],
      "execution_count": null,
      "outputs": [
        {
          "output_type": "execute_result",
          "data": {
            "text/plain": [
              "array([[0., 1., 0., 0., 0.],\n",
              "       [0., 0., 0., 0., 1.],\n",
              "       [1., 0., 0., 0., 0.],\n",
              "       [0., 0., 1., 0., 0.],\n",
              "       [0., 1., 0., 0., 0.],\n",
              "       [1., 0., 0., 0., 0.],\n",
              "       [0., 0., 0., 1., 0.],\n",
              "       [0., 0., 0., 0., 1.],\n",
              "       [0., 0., 1., 0., 0.],\n",
              "       [0., 0., 1., 0., 0.],\n",
              "       [1., 0., 0., 0., 0.],\n",
              "       [0., 0., 0., 0., 1.],\n",
              "       [0., 0., 0., 0., 1.],\n",
              "       [0., 0., 1., 0., 0.],\n",
              "       [1., 0., 0., 0., 0.],\n",
              "       [0., 0., 0., 1., 0.],\n",
              "       [0., 1., 0., 0., 0.],\n",
              "       [0., 0., 0., 1., 0.],\n",
              "       [0., 1., 0., 0., 0.],\n",
              "       [0., 1., 0., 0., 0.]], dtype=float32)"
            ]
          },
          "metadata": {
            "tags": []
          },
          "execution_count": 13
        }
      ]
    },
    {
      "cell_type": "code",
      "metadata": {
        "colab": {
          "base_uri": "https://localhost:8080/"
        },
        "id": "ytSEY7gkIQO6",
        "outputId": "5938634e-ce2d-4519-ff69-c4e63b5fc195"
      },
      "source": [
        "validation_gernator.labels"
      ],
      "execution_count": null,
      "outputs": [
        {
          "output_type": "execute_result",
          "data": {
            "text/plain": [
              "array([0, 0, 0, ..., 4, 4, 4], dtype=int32)"
            ]
          },
          "metadata": {
            "tags": []
          },
          "execution_count": 7
        }
      ]
    },
    {
      "cell_type": "code",
      "metadata": {
        "colab": {
          "base_uri": "https://localhost:8080/"
        },
        "id": "4rWYi6AdzDdT",
        "outputId": "678e77c7-9f7e-4d57-8a5f-e2b012bb6a52"
      },
      "source": [
        "train_gernator.class_indices"
      ],
      "execution_count": null,
      "outputs": [
        {
          "output_type": "execute_result",
          "data": {
            "text/plain": [
              "{'daisy': 0, 'dandelion': 1, 'rose': 2, 'sunflower': 3, 'tulip': 4}"
            ]
          },
          "metadata": {
            "tags": []
          },
          "execution_count": 62
        }
      ]
    },
    {
      "cell_type": "code",
      "metadata": {
        "id": "CYPpqNOA_dCB"
      },
      "source": [
        "import tensorflow as tf\n",
        "from tensorflow.keras.models import Sequential\n",
        "from tensorflow.keras.layers import InputLayer, BatchNormalization, Dropout, Flatten, Dense, Activation, MaxPool2D, Conv2D\n",
        "model = tf.keras.models.Sequential([\n",
        "                                    tf.keras.layers.Conv2D(256,(3,3),activation='relu',input_shape=(180,180,3)),\n",
        "                                    tf.keras.layers.MaxPool2D(2,2),\n",
        "                                    tf.keras.layers.Conv2D(256,(3,3),activation='relu'),\n",
        "                                    tf.keras.layers.MaxPool2D(2,2),\n",
        "                                    tf.keras.layers.Conv2D(128,(3,3),activation='relu'),\n",
        "                                    tf.keras.layers.MaxPool2D(2,2),\n",
        "                                    tf.keras.layers.Conv2D(128,(3,3),activation='relu'),\n",
        "                                    tf.keras.layers.MaxPool2D(2,2),\n",
        "                                    tf.keras.layers.Flatten(),\n",
        "                                    tf.keras.layers.Dropout(0.5),\n",
        "                                    tf.keras.layers.Dense(64,activation='relu'),\n",
        "                                    tf.keras.layers.Dense(5,activation='softmax')\n",
        "\n",
        "\n",
        "])\n"
      ],
      "execution_count": null,
      "outputs": []
    },
    {
      "cell_type": "code",
      "metadata": {
        "id": "4fpuoCXCMe5w"
      },
      "source": [
        "model.compile(optimizer='rmsprop',loss='categorical_crossentropy',metrics=['accuracy'])"
      ],
      "execution_count": null,
      "outputs": []
    },
    {
      "cell_type": "code",
      "metadata": {
        "colab": {
          "base_uri": "https://localhost:8080/"
        },
        "id": "ax33HSoLM0Pv",
        "outputId": "b368639f-7508-40a5-b7f9-706be962d694"
      },
      "source": [
        "result = model.fit(train_gernator,steps_per_epoch=30,epochs=10,\n",
        "                   validation_data=validation_gernator,\n",
        "                   validation_steps=30)"
      ],
      "execution_count": null,
      "outputs": [
        {
          "output_type": "stream",
          "text": [
            "Epoch 1/10\n",
            "30/30 [==============================] - 450s 15s/step - loss: 2.6572 - accuracy: 0.2487 - val_loss: 2.2557 - val_accuracy: 0.2383\n",
            "Epoch 2/10\n",
            "30/30 [==============================] - 425s 14s/step - loss: 1.6329 - accuracy: 0.2293 - val_loss: 1.4103 - val_accuracy: 0.3183\n",
            "Epoch 3/10\n",
            "30/30 [==============================] - 354s 12s/step - loss: 1.4503 - accuracy: 0.3904 - val_loss: 1.2516 - val_accuracy: 0.4650\n",
            "Epoch 4/10\n",
            "30/30 [==============================] - 330s 11s/step - loss: 1.3253 - accuracy: 0.4347 - val_loss: 1.1683 - val_accuracy: 0.5400\n",
            "Epoch 5/10\n",
            "30/30 [==============================] - 312s 10s/step - loss: 1.2856 - accuracy: 0.5084 - val_loss: 1.1892 - val_accuracy: 0.4850\n",
            "Epoch 6/10\n",
            "30/30 [==============================] - 310s 10s/step - loss: 1.2099 - accuracy: 0.5342 - val_loss: 1.0504 - val_accuracy: 0.5700\n",
            "Epoch 7/10\n",
            "30/30 [==============================] - 311s 10s/step - loss: 1.2539 - accuracy: 0.5246 - val_loss: 1.0664 - val_accuracy: 0.6067\n",
            "Epoch 8/10\n",
            "30/30 [==============================] - 310s 10s/step - loss: 1.1624 - accuracy: 0.5295 - val_loss: 1.2065 - val_accuracy: 0.5267\n",
            "Epoch 9/10\n",
            "30/30 [==============================] - 308s 10s/step - loss: 1.1270 - accuracy: 0.5176 - val_loss: 1.1341 - val_accuracy: 0.5000\n",
            "Epoch 10/10\n",
            "30/30 [==============================] - 308s 10s/step - loss: 1.0257 - accuracy: 0.6042 - val_loss: 1.0026 - val_accuracy: 0.5933\n"
          ],
          "name": "stdout"
        }
      ]
    },
    {
      "cell_type": "code",
      "metadata": {
        "colab": {
          "base_uri": "https://localhost:8080/"
        },
        "id": "XoRaO2qJLvMi",
        "outputId": "cb924e99-90c3-4e64-f222-b8c53b08be19"
      },
      "source": [
        "model.evaluate(validation_gernator)"
      ],
      "execution_count": null,
      "outputs": [
        {
          "output_type": "stream",
          "text": [
            "87/87 [==============================] - 193s 2s/step - loss: 1.0231 - accuracy: 0.5700\n"
          ],
          "name": "stdout"
        },
        {
          "output_type": "execute_result",
          "data": {
            "text/plain": [
              "[1.0230780839920044, 0.5700231194496155]"
            ]
          },
          "metadata": {
            "tags": []
          },
          "execution_count": 20
        }
      ]
    },
    {
      "cell_type": "code",
      "metadata": {
        "colab": {
          "base_uri": "https://localhost:8080/"
        },
        "id": "NT16UGx8akjw",
        "outputId": "b62fcc93-f9a9-474e-e0e4-b78f5aa76251"
      },
      "source": [
        "x = result.history.keys()\n",
        "x"
      ],
      "execution_count": null,
      "outputs": [
        {
          "output_type": "execute_result",
          "data": {
            "text/plain": [
              "dict_keys(['loss', 'accuracy', 'val_loss', 'val_accuracy'])"
            ]
          },
          "metadata": {
            "tags": []
          },
          "execution_count": 21
        }
      ]
    },
    {
      "cell_type": "code",
      "metadata": {
        "colab": {
          "base_uri": "https://localhost:8080/",
          "height": 573
        },
        "id": "JtHya6lcauFy",
        "outputId": "1189961d-566e-48c9-c1bf-e849c06ec7a2"
      },
      "source": [
        "from keras.models import Sequential\n",
        "from keras.layers import Dense\n",
        "import matplotlib.pyplot as plt\n",
        "import numpy \n",
        "plt.plot(result.history['accuracy'])\n",
        "plt.plot(result.history['val_accuracy'])\n",
        "plt.title('model accuracy')\n",
        "plt.ylabel('accuracy')\n",
        "plt.xlabel('epoch')\n",
        "plt.legend(['train','test'],loc = 'upper left')\n",
        "plt.show()\n",
        "plt.plot(result.history['loss'])\n",
        "plt.plot(result.history['val_loss'])\n",
        "plt.title('model loss')\n",
        "plt.ylabel('loss')\n",
        "plt.xlabel('epoch')\n",
        "plt.legend(['train','test'],loc = 'upper left')\n",
        "plt.show()\n",
        "\n"
      ],
      "execution_count": null,
      "outputs": [
        {
          "output_type": "display_data",
          "data": {
            "image/png": "[encoded data removed]",
            "text/plain": [
              "<Figure size 432x288 with 1 Axes>"
            ]
          },
          "metadata": {
            "tags": [],
            "needs_background": "light"
          }
        },
        {
          "output_type": "display_data",
          "data": {
            "image/png": "[encoded data removed]",
            "text/plain": [
              "<Figure size 432x288 with 1 Axes>"
            ]
          },
          "metadata": {
            "tags": [],
            "needs_background": "light"
          }
        }
      ]
    },
    {
      "cell_type": "code",
      "metadata": {
        "id": "3d3bydXNdOZC"
      },
      "source": [
        "import numpy as np\n",
        "y_pred = np.argmax(model.predict(validation_gernator),axis=1)"
      ],
      "execution_count": null,
      "outputs": []
    },
    {
      "cell_type": "code",
      "metadata": {
        "colab": {
          "base_uri": "https://localhost:8080/"
        },
        "id": "uIelNqJ-dwUz",
        "outputId": "af9af503-0ba5-413f-ad4d-7ebea39f7db1"
      },
      "source": [
        "y_pred.shape"
      ],
      "execution_count": null,
      "outputs": [
        {
          "output_type": "execute_result",
          "data": {
            "text/plain": [
              "(1728,)"
            ]
          },
          "metadata": {
            "tags": []
          },
          "execution_count": 26
        }
      ]
    },
    {
      "cell_type": "code",
      "metadata": {
        "colab": {
          "base_uri": "https://localhost:8080/"
        },
        "id": "DmfvDhuOeaR1",
        "outputId": "17194c3a-08aa-4cec-91d3-27befd77e377"
      },
      "source": [
        "validation_gernator[0]"
      ],
      "execution_count": null,
      "outputs": [
        {
          "output_type": "execute_result",
          "data": {
            "text/plain": [
              "(array([[[[9.49019670e-01, 8.62745166e-01, 6.66666687e-01],\n",
              "          [9.49019670e-01, 8.62745166e-01, 6.66666687e-01],\n",
              "          [9.49019670e-01, 8.62745166e-01, 6.66666687e-01],\n",
              "          ...,\n",
              "          [8.45703542e-01, 7.43742764e-01, 5.20213306e-01],\n",
              "          [8.45701277e-01, 7.43740499e-01, 5.20211041e-01],\n",
              "          [8.45698953e-01, 7.43738115e-01, 5.20208716e-01]],\n",
              " \n",
              "         [[9.48433518e-01, 8.62159014e-01, 6.66080594e-01],\n",
              "          [9.48431194e-01, 8.62156689e-01, 6.66078269e-01],\n",
              "          [9.48428929e-01, 8.62154424e-01, 6.66076005e-01],\n",
              "          ...,\n",
              "          [8.41145396e-01, 7.40180552e-01, 5.17647088e-01],\n",
              "          [8.41140747e-01, 7.40178227e-01, 5.17647088e-01],\n",
              "          [8.41136158e-01, 7.40175962e-01, 5.17647088e-01]],\n",
              " \n",
              "         [[9.45098102e-01, 8.58823597e-01, 6.62745118e-01],\n",
              "          [9.45098102e-01, 8.58823597e-01, 6.62745118e-01],\n",
              "          [9.45098102e-01, 8.58823597e-01, 6.62745118e-01],\n",
              "          ...,\n",
              "          [8.35294187e-01, 7.37254918e-01, 5.17647088e-01],\n",
              "          [8.35294187e-01, 7.37254918e-01, 5.17647088e-01],\n",
              "          [8.35294187e-01, 7.37254918e-01, 5.17647088e-01]],\n",
              " \n",
              "         ...,\n",
              " \n",
              "         [[9.60702240e-01, 8.82270813e-01, 6.86192393e-01],\n",
              "          [9.60699856e-01, 8.82268488e-01, 6.86190069e-01],\n",
              "          [9.60697591e-01, 8.82266223e-01, 6.86187804e-01],\n",
              "          ...,\n",
              "          [8.27451050e-01, 7.37254918e-01, 5.25490224e-01],\n",
              "          [8.27451050e-01, 7.37254918e-01, 5.25490224e-01],\n",
              "          [8.27451050e-01, 7.37254918e-01, 5.25490224e-01]],\n",
              " \n",
              "         [[9.57140028e-01, 8.78708661e-01, 6.82630241e-01],\n",
              "          [9.57137704e-01, 8.78706336e-01, 6.82627857e-01],\n",
              "          [9.57135379e-01, 8.78704011e-01, 6.82625532e-01],\n",
              "          ...,\n",
              "          [8.27451050e-01, 7.37387598e-01, 5.25224984e-01],\n",
              "          [8.27451050e-01, 7.37389863e-01, 5.25220335e-01],\n",
              "          [8.27451050e-01, 7.37392187e-01, 5.25215685e-01]],\n",
              " \n",
              "         [[9.56862807e-01, 8.78431439e-01, 6.82352960e-01],\n",
              "          [9.56862807e-01, 8.78431439e-01, 6.82352960e-01],\n",
              "          [9.56862807e-01, 8.78431439e-01, 6.82352960e-01],\n",
              "          ...,\n",
              "          [8.27451050e-01, 7.40949810e-01, 5.18100560e-01],\n",
              "          [8.27451050e-01, 7.40952134e-01, 5.18095911e-01],\n",
              "          [8.27451050e-01, 7.40954399e-01, 5.18091321e-01]]],\n",
              " \n",
              " \n",
              "        [[[5.25490224e-01, 6.19607866e-01, 1.88235313e-01],\n",
              "          [5.27684033e-01, 6.23995423e-01, 2.05785498e-01],\n",
              "          [5.25432944e-01, 6.27451003e-01, 2.17618421e-01],\n",
              "          ...,\n",
              "          [4.77357060e-01, 6.30298257e-01, 1.79317832e-01],\n",
              "          [4.84833449e-01, 6.31179154e-01, 1.82836905e-01],\n",
              "          [4.89134729e-01, 6.22441351e-01, 1.79304078e-01]],\n",
              " \n",
              "         [[5.24222970e-01, 6.26132071e-01, 1.90957725e-01],\n",
              "          [5.24006367e-01, 6.25053048e-01, 1.97649017e-01],\n",
              "          [5.22169232e-01, 6.25819147e-01, 2.04467058e-01],\n",
              "          ...,\n",
              "          [4.79856312e-01, 6.25276625e-01, 1.78056642e-01],\n",
              "          [4.82444584e-01, 6.27585948e-01, 1.80482522e-01],\n",
              "          [4.81460571e-01, 6.26225054e-01, 1.79277405e-01]],\n",
              " \n",
              "         [[5.15492976e-01, 6.24206245e-01, 1.88800141e-01],\n",
              "          [5.18974602e-01, 6.27474904e-01, 1.95026368e-01],\n",
              "          [5.23240089e-01, 6.30436897e-01, 2.05341458e-01],\n",
              "          ...,\n",
              "          [4.78500724e-01, 6.23598814e-01, 1.76539928e-01],\n",
              "          [4.79852349e-01, 6.24950409e-01, 1.77891567e-01],\n",
              "          [4.82316434e-01, 6.27414465e-01, 1.80355638e-01]],\n",
              " \n",
              "         ...,\n",
              " \n",
              "         [[6.08855367e-01, 5.78357458e-01, 3.16261142e-01],\n",
              "          [5.91238201e-01, 5.75421989e-01, 2.92866170e-01],\n",
              "          [5.55622280e-01, 5.77213287e-01, 2.59892821e-01],\n",
              "          ...,\n",
              "          [4.23253030e-01, 5.79065323e-01, 1.58645451e-01],\n",
              "          [4.20650214e-01, 5.83146870e-01, 1.60353839e-01],\n",
              "          [4.15549368e-01, 5.77971041e-01, 1.55203044e-01]],\n",
              " \n",
              "         [[5.84987342e-01, 5.55468380e-01, 2.92197376e-01],\n",
              "          [5.78161001e-01, 5.73998511e-01, 2.81752318e-01],\n",
              "          [5.11357427e-01, 5.56423783e-01, 2.19411150e-01],\n",
              "          ...,\n",
              "          [4.23239410e-01, 5.70420623e-01, 1.53480500e-01],\n",
              "          [4.21523273e-01, 5.73026240e-01, 1.54137492e-01],\n",
              "          [4.20672953e-01, 5.72126031e-01, 1.53262228e-01]],\n",
              " \n",
              "         [[5.86208880e-01, 5.77351213e-01, 2.89911419e-01],\n",
              "          [5.54613888e-01, 5.75106144e-01, 2.57095248e-01],\n",
              "          [4.56075251e-01, 5.24503350e-01, 1.66794792e-01],\n",
              "          ...,\n",
              "          [4.28974450e-01, 5.71674407e-01, 1.55988082e-01],\n",
              "          [4.30053473e-01, 5.75151563e-01, 1.59465209e-01],\n",
              "          [4.25221473e-01, 5.70319533e-01, 1.54633224e-01]]],\n",
              " \n",
              " \n",
              "        [[[9.12759483e-01, 9.28542852e-01, 9.39637542e-01],\n",
              "          [9.13150549e-01, 9.35982764e-01, 9.36382115e-01],\n",
              "          [8.99711370e-01, 9.33182716e-01, 9.29238200e-01],\n",
              "          ...,\n",
              "          [2.28067935e-01, 3.14923286e-01, 9.13938582e-02],\n",
              "          [2.55357146e-01, 3.52529764e-01, 1.33333340e-01],\n",
              "          [2.47390449e-01, 3.40292931e-01, 1.30295366e-01]],\n",
              " \n",
              "         [[9.17020023e-01, 9.32795882e-01, 9.44560587e-01],\n",
              "          [9.17647123e-01, 9.40479338e-01, 9.41525161e-01],\n",
              "          [9.04391229e-01, 9.37862575e-01, 9.34548557e-01],\n",
              "          ...,\n",
              "          [2.37020001e-01, 3.22513700e-01, 1.01839416e-01],\n",
              "          [2.66738266e-01, 3.59126925e-01, 1.47373423e-01],\n",
              "          [2.54959255e-01, 3.43486220e-01, 1.39644220e-01]],\n",
              " \n",
              "         [[9.40499485e-01, 9.53029513e-01, 9.71361697e-01],\n",
              "          [9.43988562e-01, 9.63491082e-01, 9.74229932e-01],\n",
              "          [9.28272009e-01, 9.58405674e-01, 9.65104699e-01],\n",
              "          ...,\n",
              "          [2.89412081e-01, 3.66212636e-01, 1.66587979e-01],\n",
              "          [3.41205657e-01, 4.11186516e-01, 2.36659691e-01],\n",
              "          [3.17233503e-01, 3.84818375e-01, 2.14274943e-01]],\n",
              " \n",
              "         ...,\n",
              " \n",
              "         [[4.81249303e-01, 5.74762374e-02, 2.00760201e-01],\n",
              "          [5.53748727e-01, 1.80468097e-01, 2.83769011e-01],\n",
              "          [4.73160267e-01, 6.67605177e-02, 1.66368410e-01],\n",
              "          ...,\n",
              "          [6.75631464e-01, 1.61649242e-01, 4.28955019e-01],\n",
              "          [7.63260305e-01, 2.09779903e-01, 5.01173258e-01],\n",
              "          [7.59719133e-01, 1.59436494e-01, 4.49077308e-01]],\n",
              " \n",
              "         [[5.31716108e-01, 8.97614807e-02, 2.29133546e-01],\n",
              "          [5.58789909e-01, 1.83440953e-01, 2.91881710e-01],\n",
              "          [5.06408095e-01, 1.05601817e-01, 2.20141694e-01],\n",
              "          ...,\n",
              "          [6.39868736e-01, 1.66448429e-01, 4.02904242e-01],\n",
              "          [6.94529116e-01, 1.89600810e-01, 4.53623950e-01],\n",
              "          [6.96436822e-01, 1.45042434e-01, 4.23142225e-01]],\n",
              " \n",
              "         [[5.41783273e-01, 9.67849717e-02, 2.35542536e-01],\n",
              "          [5.55817008e-01, 1.80217668e-01, 2.89237350e-01],\n",
              "          [5.10467112e-01, 1.12013936e-01, 2.27838218e-01],\n",
              "          ...,\n",
              "          [6.31675959e-01, 1.64507985e-01, 3.95852566e-01],\n",
              "          [6.87169552e-01, 1.91074014e-01, 4.50423032e-01],\n",
              "          [6.90967977e-01, 1.46802410e-01, 4.22163635e-01]]],\n",
              " \n",
              " \n",
              "        ...,\n",
              " \n",
              " \n",
              "        [[[4.90834890e-03, 4.90834890e-03, 1.63611630e-03],\n",
              "          [4.88343462e-03, 4.88343462e-03, 1.62781146e-03],\n",
              "          [4.85852035e-03, 4.85852035e-03, 1.61950663e-03],\n",
              "          ...,\n",
              "          [1.97740160e-02, 6.82618320e-02, 8.30857491e-04],\n",
              "          [1.97657105e-02, 6.83781058e-02, 7.89333659e-04],\n",
              "          [1.97574068e-02, 6.84943721e-02, 7.47809769e-04]],\n",
              " \n",
              "         [[8.51238891e-03, 8.51238891e-03, 2.29541003e-03],\n",
              "          [8.52899905e-03, 8.52899905e-03, 2.30371486e-03],\n",
              "          [8.54560733e-03, 8.54560733e-03, 2.31201970e-03],\n",
              "          ...,\n",
              "          [2.54039820e-02, 1.88105572e-02, 2.10137721e-02],\n",
              "          [2.53043249e-02, 1.86444633e-02, 2.09390279e-02],\n",
              "          [2.52046678e-02, 1.84783675e-02, 2.08642855e-02]],\n",
              " \n",
              "         [[3.92156886e-03, 3.92156886e-03, 0.00000000e+00],\n",
              "          [3.92156886e-03, 3.92156886e-03, 0.00000000e+00],\n",
              "          [3.92156886e-03, 3.92156886e-03, 0.00000000e+00],\n",
              "          ...,\n",
              "          [7.20508099e-02, 9.74815562e-02, 5.56332506e-02],\n",
              "          [7.19677582e-02, 9.72905457e-02, 5.55917248e-02],\n",
              "          [7.18847141e-02, 9.70995352e-02, 5.55501990e-02]],\n",
              " \n",
              "         ...,\n",
              " \n",
              "         [[3.92156886e-03, 3.92156886e-03, 3.92156886e-03],\n",
              "          [3.92156886e-03, 3.92156886e-03, 3.92156886e-03],\n",
              "          [3.92156886e-03, 3.92156886e-03, 3.92156886e-03],\n",
              "          ...,\n",
              "          [5.62216602e-02, 7.90220797e-02, 4.99748066e-02],\n",
              "          [5.61469160e-02, 7.89639428e-02, 4.99083735e-02],\n",
              "          [5.60721755e-02, 7.89058134e-02, 4.98419330e-02]],\n",
              " \n",
              "         [[3.92156886e-03, 3.92156886e-03, 3.92156886e-03],\n",
              "          [3.92156886e-03, 3.92156886e-03, 3.92156886e-03],\n",
              "          [3.92156886e-03, 3.92156886e-03, 3.92156886e-03],\n",
              "          ...,\n",
              "          [5.90116158e-02, 1.13349333e-01, 3.72765288e-02],\n",
              "          [5.90531416e-02, 1.13266282e-01, 3.73678841e-02],\n",
              "          [5.90946637e-02, 1.13183238e-01, 3.74592319e-02]],\n",
              " \n",
              "         [[3.92156886e-03, 3.92156886e-03, 3.92156886e-03],\n",
              "          [3.92156886e-03, 3.92156886e-03, 3.92156886e-03],\n",
              "          [3.92156886e-03, 3.92156886e-03, 3.92156886e-03],\n",
              "          ...,\n",
              "          [5.78964986e-02, 1.59381554e-01, 3.11346818e-02],\n",
              "          [5.78715838e-02, 1.59273580e-01, 3.10931578e-02],\n",
              "          [5.78466691e-02, 1.59165621e-01, 3.10516339e-02]]],\n",
              " \n",
              " \n",
              "        [[[6.98039234e-01, 6.82352960e-01, 1.56862751e-01],\n",
              "          [6.85944021e-01, 6.54937088e-01, 1.93954870e-01],\n",
              "          [6.75385535e-01, 5.62478125e-01, 3.38096082e-01],\n",
              "          ...,\n",
              "          [1.47981003e-01, 2.22566128e-01, 2.15001464e-01],\n",
              "          [1.82480723e-01, 3.18320364e-01, 2.93079525e-01],\n",
              "          [2.00000018e-01, 3.56862754e-01, 3.25490206e-01]],\n",
              " \n",
              "         [[6.98039234e-01, 6.82352960e-01, 1.56862751e-01],\n",
              "          [6.85944021e-01, 6.54937088e-01, 1.93954870e-01],\n",
              "          [6.75385535e-01, 5.62478125e-01, 3.38096082e-01],\n",
              "          ...,\n",
              "          [1.47981003e-01, 2.22566128e-01, 2.15001464e-01],\n",
              "          [1.82480723e-01, 3.18320364e-01, 2.93079525e-01],\n",
              "          [2.00000018e-01, 3.56862754e-01, 3.25490206e-01]],\n",
              " \n",
              "         [[6.98039234e-01, 6.82352960e-01, 1.56862751e-01],\n",
              "          [6.85944021e-01, 6.54937088e-01, 1.93954870e-01],\n",
              "          [6.75385535e-01, 5.62478125e-01, 3.38096082e-01],\n",
              "          ...,\n",
              "          [1.47981003e-01, 2.22566128e-01, 2.15001464e-01],\n",
              "          [1.82480723e-01, 3.18320364e-01, 2.93079525e-01],\n",
              "          [2.00000018e-01, 3.56862754e-01, 3.25490206e-01]],\n",
              " \n",
              "         ...,\n",
              " \n",
              "         [[1.09803930e-01, 1.37254909e-01, 1.76470593e-01],\n",
              "          [1.09803930e-01, 1.36448562e-01, 1.77276954e-01],\n",
              "          [1.17374346e-01, 1.40903756e-01, 1.87962577e-01],\n",
              "          ...,\n",
              "          [1.53573468e-01, 1.81581423e-01, 1.80392161e-01],\n",
              "          [1.55110821e-01, 2.05632970e-01, 2.04757005e-01],\n",
              "          [1.56862751e-01, 2.11764723e-01, 2.11764723e-01]],\n",
              " \n",
              "         [[1.09803930e-01, 1.37254909e-01, 1.76470593e-01],\n",
              "          [1.09803930e-01, 1.36448562e-01, 1.77276954e-01],\n",
              "          [1.17374346e-01, 1.40903756e-01, 1.87962577e-01],\n",
              "          ...,\n",
              "          [1.53573468e-01, 1.81581423e-01, 1.80392161e-01],\n",
              "          [1.55110821e-01, 2.05632970e-01, 2.04757005e-01],\n",
              "          [1.56862751e-01, 2.11764723e-01, 2.11764723e-01]],\n",
              " \n",
              "         [[1.09803930e-01, 1.37254909e-01, 1.76470593e-01],\n",
              "          [1.09803930e-01, 1.36448562e-01, 1.77276954e-01],\n",
              "          [1.17374346e-01, 1.40903756e-01, 1.87962577e-01],\n",
              "          ...,\n",
              "          [1.53573468e-01, 1.81581423e-01, 1.80392161e-01],\n",
              "          [1.55110821e-01, 2.05632970e-01, 2.04757005e-01],\n",
              "          [1.56862751e-01, 2.11764723e-01, 2.11764723e-01]]],\n",
              " \n",
              " \n",
              "        [[[5.37254930e-01, 5.33333361e-01, 5.64705908e-01],\n",
              "          [5.37254930e-01, 5.33333361e-01, 5.64705908e-01],\n",
              "          [5.37254930e-01, 5.33333361e-01, 5.64705908e-01],\n",
              "          ...,\n",
              "          [5.67755461e-01, 5.62309146e-01, 6.10020697e-01],\n",
              "          [5.67577899e-01, 5.62220335e-01, 6.09665692e-01],\n",
              "          [5.67400455e-01, 5.62131584e-01, 6.09310567e-01]],\n",
              " \n",
              "         [[5.37254930e-01, 5.33333361e-01, 5.64705908e-01],\n",
              "          [5.37254930e-01, 5.33333361e-01, 5.64705908e-01],\n",
              "          [5.37254930e-01, 5.33333361e-01, 5.64705908e-01],\n",
              "          ...,\n",
              "          [5.80392182e-01, 5.68627477e-01, 6.35294139e-01],\n",
              "          [5.80392182e-01, 5.68627477e-01, 6.35294139e-01],\n",
              "          [5.80392182e-01, 5.68627477e-01, 6.35294139e-01]],\n",
              " \n",
              "         [[5.37254930e-01, 5.33333361e-01, 5.64705908e-01],\n",
              "          [5.37254930e-01, 5.33333361e-01, 5.64705908e-01],\n",
              "          [5.37254930e-01, 5.33333361e-01, 5.64705908e-01],\n",
              "          ...,\n",
              "          [5.80392182e-01, 5.68627477e-01, 6.35294139e-01],\n",
              "          [5.80392182e-01, 5.68627477e-01, 6.35294139e-01],\n",
              "          [5.80392182e-01, 5.68627477e-01, 6.35294139e-01]],\n",
              " \n",
              "         ...,\n",
              " \n",
              "         [[5.60784340e-01, 5.56862772e-01, 5.88235319e-01],\n",
              "          [5.60784340e-01, 5.56862772e-01, 5.88235319e-01],\n",
              "          [5.60784340e-01, 5.56862772e-01, 5.88235319e-01],\n",
              "          ...,\n",
              "          [6.11764729e-01, 5.88235319e-01, 6.43137276e-01],\n",
              "          [6.11764729e-01, 5.88235319e-01, 6.43137276e-01],\n",
              "          [6.11764729e-01, 5.88235319e-01, 6.43137276e-01]],\n",
              " \n",
              "         [[5.60784340e-01, 5.56862772e-01, 5.88235319e-01],\n",
              "          [5.60784340e-01, 5.56862772e-01, 5.88235319e-01],\n",
              "          [5.60784340e-01, 5.56862772e-01, 5.88235319e-01],\n",
              "          ...,\n",
              "          [6.10306978e-01, 5.85319817e-01, 6.43137276e-01],\n",
              "          [6.10336602e-01, 5.85378945e-01, 6.43137276e-01],\n",
              "          [6.10366166e-01, 5.85438132e-01, 6.43137276e-01]],\n",
              " \n",
              "         [[5.70987403e-01, 5.72167337e-01, 5.95887661e-01],\n",
              "          [5.70869029e-01, 5.71989834e-01, 5.95798850e-01],\n",
              "          [5.70750713e-01, 5.71812332e-01, 5.95710099e-01],\n",
              "          ...,\n",
              "          [6.07843161e-01, 5.80392182e-01, 6.43137276e-01],\n",
              "          [6.07843161e-01, 5.80392182e-01, 6.43137276e-01],\n",
              "          [6.07843161e-01, 5.80392182e-01, 6.43137276e-01]]]],\n",
              "       dtype=float32), array([[0., 0., 0., 0., 1.],\n",
              "        [0., 1., 0., 0., 0.],\n",
              "        [0., 0., 0., 0., 1.],\n",
              "        [0., 0., 0., 0., 1.],\n",
              "        [0., 1., 0., 0., 0.],\n",
              "        [0., 0., 0., 0., 1.],\n",
              "        [0., 0., 0., 0., 1.],\n",
              "        [1., 0., 0., 0., 0.],\n",
              "        [0., 1., 0., 0., 0.],\n",
              "        [0., 0., 0., 0., 1.],\n",
              "        [0., 0., 0., 1., 0.],\n",
              "        [0., 0., 0., 1., 0.],\n",
              "        [0., 0., 0., 0., 1.],\n",
              "        [0., 0., 0., 1., 0.],\n",
              "        [0., 1., 0., 0., 0.],\n",
              "        [0., 1., 0., 0., 0.],\n",
              "        [0., 1., 0., 0., 0.],\n",
              "        [0., 0., 1., 0., 0.],\n",
              "        [0., 0., 1., 0., 0.],\n",
              "        [0., 0., 0., 1., 0.]], dtype=float32))"
            ]
          },
          "metadata": {
            "tags": []
          },
          "execution_count": 27
        }
      ]
    },
    {
      "cell_type": "code",
      "metadata": {
        "id": "SZweJVf9eear"
      },
      "source": [
        ""
      ],
      "execution_count": null,
      "outputs": []
    }
  ]
}