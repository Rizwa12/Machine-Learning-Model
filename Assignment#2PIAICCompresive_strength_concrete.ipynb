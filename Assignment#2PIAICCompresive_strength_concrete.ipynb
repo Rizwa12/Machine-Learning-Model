{
  "nbformat": 4,
  "nbformat_minor": 0,
  "metadata": {
    "colab": {
      "name": "PIAIC Assignment#4Compresive_strength_concrete.ipynb",
      "provenance": [],
      "collapsed_sections": []
    },
    "kernelspec": {
      "name": "python3",
      "display_name": "Python 3"
    },
    "language_info": {
      "name": "python"
    }
  },
  "cells": [
    {
      "cell_type": "code",
      "metadata": {
        "id": "mshKnQJ_Qz2p"
      },
      "source": [
        "import tensorflow as tf\n",
        "from tensorflow.keras import models,layers,optimizers,utils\n",
        "import numpy as np\n",
        "import matplotlib as plt\n",
        "import pandas as pd"
      ],
      "execution_count": null,
      "outputs": []
    },
    {
      "cell_type": "code",
      "metadata": {
        "colab": {
          "base_uri": "https://localhost:8080/"
        },
        "id": "SZ0bxL_PR52N",
        "outputId": "3ec0b2d7-84a1-4f44-cc13-6aa812e7018e"
      },
      "source": [
        "from google.colab import drive\n",
        "drive.mount('/content/drive/')"
      ],
      "execution_count": null,
      "outputs": [
        {
          "output_type": "stream",
          "text": [
            "Mounted at /content/drive/\n"
          ],
          "name": "stdout"
        }
      ]
    },
    {
      "cell_type": "code",
      "metadata": {
        "id": "6jAKPtrWSIdW"
      },
      "source": [
        "df = pd.read_csv(\"/content/drive/MyDrive/compresive_strength_concrete.csv\")"
      ],
      "execution_count": null,
      "outputs": []
    },
    {
      "cell_type": "code",
      "metadata": {
        "colab": {
          "base_uri": "https://localhost:8080/",
          "height": 504
        },
        "id": "mdQ5_NvySi4c",
        "outputId": "fdf4f482-6a20-440f-cd93-5803fcb79900"
      },
      "source": [
        "df"
      ],
      "execution_count": null,
      "outputs": [
        {
          "output_type": "execute_result",
          "data": {
            "text/html": [
              "<div>\n",
              "<style scoped>\n",
              "    .dataframe tbody tr th:only-of-type {\n",
              "        vertical-align: middle;\n",
              "    }\n",
              "\n",
              "    .dataframe tbody tr th {\n",
              "        vertical-align: top;\n",
              "    }\n",
              "\n",
              "    .dataframe thead th {\n",
              "        text-align: right;\n",
              "    }\n",
              "</style>\n",
              "<table border=\"1\" class=\"dataframe\">\n",
              "  <thead>\n",
              "    <tr style=\"text-align: right;\">\n",
              "      <th></th>\n",
              "      <th>Cement (component 1)(kg in a m^3 mixture)</th>\n",
              "      <th>Blast Furnace Slag (component 2)(kg in a m^3 mixture)</th>\n",
              "      <th>Fly Ash (component 3)(kg in a m^3 mixture)</th>\n",
              "      <th>Water  (component 4)(kg in a m^3 mixture)</th>\n",
              "      <th>Superplasticizer (component 5)(kg in a m^3 mixture)</th>\n",
              "      <th>Coarse Aggregate  (component 6)(kg in a m^3 mixture)</th>\n",
              "      <th>Fine Aggregate (component 7)(kg in a m^3 mixture)</th>\n",
              "      <th>Age (day)</th>\n",
              "      <th>Concrete compressive strength(MPa, megapascals)</th>\n",
              "    </tr>\n",
              "  </thead>\n",
              "  <tbody>\n",
              "    <tr>\n",
              "      <th>0</th>\n",
              "      <td>540.0</td>\n",
              "      <td>0.0</td>\n",
              "      <td>0.0</td>\n",
              "      <td>162.0</td>\n",
              "      <td>2.5</td>\n",
              "      <td>1040.0</td>\n",
              "      <td>676.0</td>\n",
              "      <td>28</td>\n",
              "      <td>79.99</td>\n",
              "    </tr>\n",
              "    <tr>\n",
              "      <th>1</th>\n",
              "      <td>540.0</td>\n",
              "      <td>0.0</td>\n",
              "      <td>0.0</td>\n",
              "      <td>162.0</td>\n",
              "      <td>2.5</td>\n",
              "      <td>1055.0</td>\n",
              "      <td>676.0</td>\n",
              "      <td>28</td>\n",
              "      <td>61.89</td>\n",
              "    </tr>\n",
              "    <tr>\n",
              "      <th>2</th>\n",
              "      <td>332.5</td>\n",
              "      <td>142.5</td>\n",
              "      <td>0.0</td>\n",
              "      <td>228.0</td>\n",
              "      <td>0.0</td>\n",
              "      <td>932.0</td>\n",
              "      <td>594.0</td>\n",
              "      <td>270</td>\n",
              "      <td>40.27</td>\n",
              "    </tr>\n",
              "    <tr>\n",
              "      <th>3</th>\n",
              "      <td>332.5</td>\n",
              "      <td>142.5</td>\n",
              "      <td>0.0</td>\n",
              "      <td>228.0</td>\n",
              "      <td>0.0</td>\n",
              "      <td>932.0</td>\n",
              "      <td>594.0</td>\n",
              "      <td>365</td>\n",
              "      <td>41.05</td>\n",
              "    </tr>\n",
              "    <tr>\n",
              "      <th>4</th>\n",
              "      <td>198.6</td>\n",
              "      <td>132.4</td>\n",
              "      <td>0.0</td>\n",
              "      <td>192.0</td>\n",
              "      <td>0.0</td>\n",
              "      <td>978.4</td>\n",
              "      <td>825.5</td>\n",
              "      <td>360</td>\n",
              "      <td>44.30</td>\n",
              "    </tr>\n",
              "    <tr>\n",
              "      <th>...</th>\n",
              "      <td>...</td>\n",
              "      <td>...</td>\n",
              "      <td>...</td>\n",
              "      <td>...</td>\n",
              "      <td>...</td>\n",
              "      <td>...</td>\n",
              "      <td>...</td>\n",
              "      <td>...</td>\n",
              "      <td>...</td>\n",
              "    </tr>\n",
              "    <tr>\n",
              "      <th>1025</th>\n",
              "      <td>276.4</td>\n",
              "      <td>116.0</td>\n",
              "      <td>90.3</td>\n",
              "      <td>179.6</td>\n",
              "      <td>8.9</td>\n",
              "      <td>870.1</td>\n",
              "      <td>768.3</td>\n",
              "      <td>28</td>\n",
              "      <td>44.28</td>\n",
              "    </tr>\n",
              "    <tr>\n",
              "      <th>1026</th>\n",
              "      <td>322.2</td>\n",
              "      <td>0.0</td>\n",
              "      <td>115.6</td>\n",
              "      <td>196.0</td>\n",
              "      <td>10.4</td>\n",
              "      <td>817.9</td>\n",
              "      <td>813.4</td>\n",
              "      <td>28</td>\n",
              "      <td>31.18</td>\n",
              "    </tr>\n",
              "    <tr>\n",
              "      <th>1027</th>\n",
              "      <td>148.5</td>\n",
              "      <td>139.4</td>\n",
              "      <td>108.6</td>\n",
              "      <td>192.7</td>\n",
              "      <td>6.1</td>\n",
              "      <td>892.4</td>\n",
              "      <td>780.0</td>\n",
              "      <td>28</td>\n",
              "      <td>23.70</td>\n",
              "    </tr>\n",
              "    <tr>\n",
              "      <th>1028</th>\n",
              "      <td>159.1</td>\n",
              "      <td>186.7</td>\n",
              "      <td>0.0</td>\n",
              "      <td>175.6</td>\n",
              "      <td>11.3</td>\n",
              "      <td>989.6</td>\n",
              "      <td>788.9</td>\n",
              "      <td>28</td>\n",
              "      <td>32.77</td>\n",
              "    </tr>\n",
              "    <tr>\n",
              "      <th>1029</th>\n",
              "      <td>260.9</td>\n",
              "      <td>100.5</td>\n",
              "      <td>78.3</td>\n",
              "      <td>200.6</td>\n",
              "      <td>8.6</td>\n",
              "      <td>864.5</td>\n",
              "      <td>761.5</td>\n",
              "      <td>28</td>\n",
              "      <td>32.40</td>\n",
              "    </tr>\n",
              "  </tbody>\n",
              "</table>\n",
              "<p>1030 rows × 9 columns</p>\n",
              "</div>"
            ],
            "text/plain": [
              "      Cement (component 1)(kg in a m^3 mixture)  ...  Concrete compressive strength(MPa, megapascals) \n",
              "0                                         540.0  ...                                             79.99\n",
              "1                                         540.0  ...                                             61.89\n",
              "2                                         332.5  ...                                             40.27\n",
              "3                                         332.5  ...                                             41.05\n",
              "4                                         198.6  ...                                             44.30\n",
              "...                                         ...  ...                                               ...\n",
              "1025                                      276.4  ...                                             44.28\n",
              "1026                                      322.2  ...                                             31.18\n",
              "1027                                      148.5  ...                                             23.70\n",
              "1028                                      159.1  ...                                             32.77\n",
              "1029                                      260.9  ...                                             32.40\n",
              "\n",
              "[1030 rows x 9 columns]"
            ]
          },
          "metadata": {
            "tags": []
          },
          "execution_count": 6
        }
      ]
    },
    {
      "cell_type": "code",
      "metadata": {
        "colab": {
          "base_uri": "https://localhost:8080/",
          "height": 289
        },
        "id": "cYiGB1_iS-Rw",
        "outputId": "6d920ff7-5f41-4a97-df20-8b99b717812f"
      },
      "source": [
        "df.head()"
      ],
      "execution_count": null,
      "outputs": [
        {
          "output_type": "execute_result",
          "data": {
            "text/html": [
              "<div>\n",
              "<style scoped>\n",
              "    .dataframe tbody tr th:only-of-type {\n",
              "        vertical-align: middle;\n",
              "    }\n",
              "\n",
              "    .dataframe tbody tr th {\n",
              "        vertical-align: top;\n",
              "    }\n",
              "\n",
              "    .dataframe thead th {\n",
              "        text-align: right;\n",
              "    }\n",
              "</style>\n",
              "<table border=\"1\" class=\"dataframe\">\n",
              "  <thead>\n",
              "    <tr style=\"text-align: right;\">\n",
              "      <th></th>\n",
              "      <th>Cement (component 1)(kg in a m^3 mixture)</th>\n",
              "      <th>Blast Furnace Slag (component 2)(kg in a m^3 mixture)</th>\n",
              "      <th>Fly Ash (component 3)(kg in a m^3 mixture)</th>\n",
              "      <th>Water  (component 4)(kg in a m^3 mixture)</th>\n",
              "      <th>Superplasticizer (component 5)(kg in a m^3 mixture)</th>\n",
              "      <th>Coarse Aggregate  (component 6)(kg in a m^3 mixture)</th>\n",
              "      <th>Fine Aggregate (component 7)(kg in a m^3 mixture)</th>\n",
              "      <th>Age (day)</th>\n",
              "      <th>Concrete compressive strength(MPa, megapascals)</th>\n",
              "    </tr>\n",
              "  </thead>\n",
              "  <tbody>\n",
              "    <tr>\n",
              "      <th>0</th>\n",
              "      <td>540.0</td>\n",
              "      <td>0.0</td>\n",
              "      <td>0.0</td>\n",
              "      <td>162.0</td>\n",
              "      <td>2.5</td>\n",
              "      <td>1040.0</td>\n",
              "      <td>676.0</td>\n",
              "      <td>28</td>\n",
              "      <td>79.99</td>\n",
              "    </tr>\n",
              "    <tr>\n",
              "      <th>1</th>\n",
              "      <td>540.0</td>\n",
              "      <td>0.0</td>\n",
              "      <td>0.0</td>\n",
              "      <td>162.0</td>\n",
              "      <td>2.5</td>\n",
              "      <td>1055.0</td>\n",
              "      <td>676.0</td>\n",
              "      <td>28</td>\n",
              "      <td>61.89</td>\n",
              "    </tr>\n",
              "    <tr>\n",
              "      <th>2</th>\n",
              "      <td>332.5</td>\n",
              "      <td>142.5</td>\n",
              "      <td>0.0</td>\n",
              "      <td>228.0</td>\n",
              "      <td>0.0</td>\n",
              "      <td>932.0</td>\n",
              "      <td>594.0</td>\n",
              "      <td>270</td>\n",
              "      <td>40.27</td>\n",
              "    </tr>\n",
              "    <tr>\n",
              "      <th>3</th>\n",
              "      <td>332.5</td>\n",
              "      <td>142.5</td>\n",
              "      <td>0.0</td>\n",
              "      <td>228.0</td>\n",
              "      <td>0.0</td>\n",
              "      <td>932.0</td>\n",
              "      <td>594.0</td>\n",
              "      <td>365</td>\n",
              "      <td>41.05</td>\n",
              "    </tr>\n",
              "    <tr>\n",
              "      <th>4</th>\n",
              "      <td>198.6</td>\n",
              "      <td>132.4</td>\n",
              "      <td>0.0</td>\n",
              "      <td>192.0</td>\n",
              "      <td>0.0</td>\n",
              "      <td>978.4</td>\n",
              "      <td>825.5</td>\n",
              "      <td>360</td>\n",
              "      <td>44.30</td>\n",
              "    </tr>\n",
              "  </tbody>\n",
              "</table>\n",
              "</div>"
            ],
            "text/plain": [
              "   Cement (component 1)(kg in a m^3 mixture)  ...  Concrete compressive strength(MPa, megapascals) \n",
              "0                                      540.0  ...                                             79.99\n",
              "1                                      540.0  ...                                             61.89\n",
              "2                                      332.5  ...                                             40.27\n",
              "3                                      332.5  ...                                             41.05\n",
              "4                                      198.6  ...                                             44.30\n",
              "\n",
              "[5 rows x 9 columns]"
            ]
          },
          "metadata": {
            "tags": []
          },
          "execution_count": 7
        }
      ]
    },
    {
      "cell_type": "code",
      "metadata": {
        "colab": {
          "base_uri": "https://localhost:8080/"
        },
        "id": "_5bDmvPATEVp",
        "outputId": "bc20db9d-76a5-405a-94d7-486a4fccebe3"
      },
      "source": [
        "df.info"
      ],
      "execution_count": null,
      "outputs": [
        {
          "output_type": "execute_result",
          "data": {
            "text/plain": [
              "<bound method DataFrame.info of       Cement (component 1)(kg in a m^3 mixture)  ...  Concrete compressive strength(MPa, megapascals) \n",
              "0                                         540.0  ...                                             79.99\n",
              "1                                         540.0  ...                                             61.89\n",
              "2                                         332.5  ...                                             40.27\n",
              "3                                         332.5  ...                                             41.05\n",
              "4                                         198.6  ...                                             44.30\n",
              "...                                         ...  ...                                               ...\n",
              "1025                                      276.4  ...                                             44.28\n",
              "1026                                      322.2  ...                                             31.18\n",
              "1027                                      148.5  ...                                             23.70\n",
              "1028                                      159.1  ...                                             32.77\n",
              "1029                                      260.9  ...                                             32.40\n",
              "\n",
              "[1030 rows x 9 columns]>"
            ]
          },
          "metadata": {
            "tags": []
          },
          "execution_count": 8
        }
      ]
    },
    {
      "cell_type": "code",
      "metadata": {
        "colab": {
          "base_uri": "https://localhost:8080/"
        },
        "id": "XZ0Uc9SAVObe",
        "outputId": "86b7f60b-643e-4eb9-e035-5168d4e5b041"
      },
      "source": [
        "df.shape"
      ],
      "execution_count": null,
      "outputs": [
        {
          "output_type": "execute_result",
          "data": {
            "text/plain": [
              "(1030, 9)"
            ]
          },
          "metadata": {
            "tags": []
          },
          "execution_count": 9
        }
      ]
    },
    {
      "cell_type": "code",
      "metadata": {
        "colab": {
          "base_uri": "https://localhost:8080/"
        },
        "id": "gOgNEQxIVgTt",
        "outputId": "7b32c820-6594-49c6-b394-b5494303f1f0"
      },
      "source": [
        "df.isnull().sum()"
      ],
      "execution_count": null,
      "outputs": [
        {
          "output_type": "execute_result",
          "data": {
            "text/plain": [
              "Cement (component 1)(kg in a m^3 mixture)                0\n",
              "Blast Furnace Slag (component 2)(kg in a m^3 mixture)    0\n",
              "Fly Ash (component 3)(kg in a m^3 mixture)               0\n",
              "Water  (component 4)(kg in a m^3 mixture)                0\n",
              "Superplasticizer (component 5)(kg in a m^3 mixture)      0\n",
              "Coarse Aggregate  (component 6)(kg in a m^3 mixture)     0\n",
              "Fine Aggregate (component 7)(kg in a m^3 mixture)        0\n",
              "Age (day)                                                0\n",
              "Concrete compressive strength(MPa, megapascals)          0\n",
              "dtype: int64"
            ]
          },
          "metadata": {
            "tags": []
          },
          "execution_count": 10
        }
      ]
    },
    {
      "cell_type": "code",
      "metadata": {
        "colab": {
          "base_uri": "https://localhost:8080/"
        },
        "id": "HDzc4U7IWLo3",
        "outputId": "b7e9c52c-99b5-497f-df1c-6d4464036e31"
      },
      "source": [
        "for i in range(len(df.columns)):\n",
        "    print(df.iloc[:, i].value_counts())\n",
        "    print('#'*25)"
      ],
      "execution_count": null,
      "outputs": [
        {
          "output_type": "stream",
          "text": [
            "362.6    20\n",
            "425.0    20\n",
            "251.4    15\n",
            "310.0    14\n",
            "446.0    14\n",
            "         ..\n",
            "313.8     1\n",
            "147.8     1\n",
            "260.9     1\n",
            "136.4     1\n",
            "321.3     1\n",
            "Name: Cement (component 1)(kg in a m^3 mixture), Length: 278, dtype: int64\n",
            "#########################\n",
            "0.0      471\n",
            "189.0     30\n",
            "106.3     20\n",
            "24.0      14\n",
            "20.0      12\n",
            "        ... \n",
            "178.1      1\n",
            "148.9      1\n",
            "98.8       1\n",
            "128.9      1\n",
            "169.4      1\n",
            "Name: Blast Furnace Slag (component 2)(kg in a m^3 mixture), Length: 185, dtype: int64\n",
            "#########################\n",
            "0.0      566\n",
            "118.3     20\n",
            "141.0     16\n",
            "24.5      15\n",
            "79.0      14\n",
            "        ... \n",
            "71.0       1\n",
            "138.0      1\n",
            "166.0      1\n",
            "182.0      1\n",
            "143.2      1\n",
            "Name: Fly Ash (component 3)(kg in a m^3 mixture), Length: 156, dtype: int64\n",
            "#########################\n",
            "192.0    118\n",
            "228.0     54\n",
            "185.7     46\n",
            "203.5     36\n",
            "186.0     28\n",
            "        ... \n",
            "127.0      1\n",
            "166.7      1\n",
            "191.3      1\n",
            "172.4      1\n",
            "177.6      1\n",
            "Name: Water  (component 4)(kg in a m^3 mixture), Length: 195, dtype: int64\n",
            "#########################\n",
            "0.0     379\n",
            "11.6     37\n",
            "8.0      27\n",
            "7.0      19\n",
            "6.0      17\n",
            "       ... \n",
            "8.8       1\n",
            "8.4       1\n",
            "10.7      1\n",
            "13.1      1\n",
            "15.3      1\n",
            "Name: Superplasticizer (component 5)(kg in a m^3 mixture), Length: 111, dtype: int64\n",
            "#########################\n",
            "932.0     57\n",
            "852.1     45\n",
            "944.7     30\n",
            "968.0     29\n",
            "1125.0    24\n",
            "          ..\n",
            "820.0      1\n",
            "908.0      1\n",
            "981.0      1\n",
            "923.2      1\n",
            "838.9      1\n",
            "Name: Coarse Aggregate  (component 6)(kg in a m^3 mixture), Length: 284, dtype: int64\n",
            "#########################\n",
            "755.8    30\n",
            "594.0    30\n",
            "670.0    23\n",
            "613.0    22\n",
            "801.0    16\n",
            "         ..\n",
            "794.0     1\n",
            "705.0     1\n",
            "669.0     1\n",
            "774.3     1\n",
            "732.6     1\n",
            "Name: Fine Aggregate (component 7)(kg in a m^3 mixture), Length: 302, dtype: int64\n",
            "#########################\n",
            "28     425\n",
            "3      134\n",
            "7      126\n",
            "56      91\n",
            "14      62\n",
            "90      54\n",
            "100     52\n",
            "180     26\n",
            "91      22\n",
            "365     14\n",
            "270     13\n",
            "360      6\n",
            "120      3\n",
            "1        2\n",
            "Name: Age (day), dtype: int64\n",
            "#########################\n",
            "33.40    6\n",
            "71.30    4\n",
            "41.05    4\n",
            "31.35    4\n",
            "23.52    4\n",
            "        ..\n",
            "38.33    1\n",
            "10.73    1\n",
            "30.45    1\n",
            "39.84    1\n",
            "36.25    1\n",
            "Name: Concrete compressive strength(MPa, megapascals) , Length: 845, dtype: int64\n",
            "#########################\n"
          ],
          "name": "stdout"
        }
      ]
    },
    {
      "cell_type": "code",
      "metadata": {
        "id": "RiZn9vH6XdiX"
      },
      "source": [
        "# shuffling data\n",
        "#df = df.sample(frac=1).reset_index(drop=True)\n",
        "\n",
        "# total data = 1030\n",
        "\n",
        "data = df.drop('Concrete compressive strength(MPa, megapascals) ', 1)\n",
        "targets = df.loc[:, 'Concrete compressive strength(MPa, megapascals) ']\n"
      ],
      "execution_count": null,
      "outputs": []
    },
    {
      "cell_type": "code",
      "metadata": {
        "colab": {
          "base_uri": "https://localhost:8080/"
        },
        "id": "c8p4Sk1ZY-rM",
        "outputId": "55d96e80-5b37-4a0e-fedb-feeb87021078"
      },
      "source": [
        "targets"
      ],
      "execution_count": null,
      "outputs": [
        {
          "output_type": "execute_result",
          "data": {
            "text/plain": [
              "0       39.06\n",
              "1       52.82\n",
              "2       27.92\n",
              "3       14.60\n",
              "4       23.85\n",
              "        ...  \n",
              "1025    38.80\n",
              "1026    40.23\n",
              "1027    33.12\n",
              "1028     8.20\n",
              "1029    48.79\n",
              "Name: Concrete compressive strength(MPa, megapascals) , Length: 1030, dtype: float64"
            ]
          },
          "metadata": {
            "tags": []
          },
          "execution_count": 26
        }
      ]
    },
    {
      "cell_type": "code",
      "metadata": {
        "colab": {
          "base_uri": "https://localhost:8080/"
        },
        "id": "2Iv52H7mXnOq",
        "outputId": "5b1df22f-270c-4841-9d1f-8f9e35f97b86"
      },
      "source": [
        "data.shape"
      ],
      "execution_count": null,
      "outputs": [
        {
          "output_type": "execute_result",
          "data": {
            "text/plain": [
              "(1030, 8)"
            ]
          },
          "metadata": {
            "tags": []
          },
          "execution_count": 17
        }
      ]
    },
    {
      "cell_type": "code",
      "metadata": {
        "colab": {
          "base_uri": "https://localhost:8080/"
        },
        "id": "9_O-NhuCW3YO",
        "outputId": "62145c46-433e-47cb-b258-33d499dfa0ae"
      },
      "source": [
        "targets.shape"
      ],
      "execution_count": null,
      "outputs": [
        {
          "output_type": "execute_result",
          "data": {
            "text/plain": [
              "(1030,)"
            ]
          },
          "metadata": {
            "tags": []
          },
          "execution_count": 18
        }
      ]
    },
    {
      "cell_type": "code",
      "metadata": {
        "id": "rjWKRaGTX87o"
      },
      "source": [
        "train_data = data.iloc[0:515]\n",
        "train_targets = targets.iloc[0:515]\n",
        "\n",
        "val_data = data.iloc[515:721]\n",
        "val_targets = targets.iloc[515:721]\n",
        "\n",
        "test_data = data.iloc[721:]\n",
        "test_targets =targets.iloc[721:]"
      ],
      "execution_count": null,
      "outputs": []
    },
    {
      "cell_type": "code",
      "metadata": {
        "colab": {
          "base_uri": "https://localhost:8080/"
        },
        "id": "uIZLooMqYHkb",
        "outputId": "edc1cff9-f1f7-4bd9-a643-edc8a2859da5"
      },
      "source": [
        "print(train_data.shape)\n",
        "print(train_targets.shape)\n",
        "print('#')\n",
        "print(val_data.shape)\n",
        "print(val_targets.shape)\n",
        "print('#')\n",
        "print(test_data.shape)\n",
        "print(test_targets.shape)"
      ],
      "execution_count": null,
      "outputs": [
        {
          "output_type": "stream",
          "text": [
            "(515, 8)\n",
            "(515,)\n",
            "#\n",
            "(206, 8)\n",
            "(206,)\n",
            "#\n",
            "(309, 8)\n",
            "(309,)\n"
          ],
          "name": "stdout"
        }
      ]
    },
    {
      "cell_type": "code",
      "metadata": {
        "id": "bY9Jh37Tgeps"
      },
      "source": [
        "mean = train_data.mean()\n",
        "std = train_data.std()\n",
        "train_data -= mean\n",
        "train_data /= std\n",
        "val_data -= mean\n",
        "val_data /= std\n",
        "test_data -= mean\n",
        "test_data /= std"
      ],
      "execution_count": null,
      "outputs": []
    },
    {
      "cell_type": "code",
      "metadata": {
        "id": "B_xJd89UYcqH"
      },
      "source": [
        "#Build a Model\n",
        "from keras import models\n",
        "from keras import layers\n",
        "def build_model():\n",
        "  model = models.Sequential()\n",
        "  model.add(layers.Dense(10,activation = 'relu',input_shape=(train_data.shape[1],)))\n",
        "  model.add(layers.Dense(8,activation='relu'))\n",
        "  model.add(layers.Dense(6,activation='relu'))\n",
        "  model.add(layers.Dense(1))\n",
        "  model.compile(optimizer='Adam',loss = 'mse',metrics=['mae'])\n",
        "  return model"
      ],
      "execution_count": null,
      "outputs": []
    },
    {
      "cell_type": "code",
      "metadata": {
        "id": "c-oIB5M6ifoy"
      },
      "source": [
        "model = build_model()\n",
        "\n",
        " "
      ],
      "execution_count": null,
      "outputs": []
    },
    {
      "cell_type": "code",
      "metadata": {
        "colab": {
          "base_uri": "https://localhost:8080/"
        },
        "id": "Xaijy9IIjjf7",
        "outputId": "7b8307dd-44d8-45d2-bc71-12fe5cf0f4fe"
      },
      "source": [
        "history = model.fit(train_data,train_targets,validation_data = (val_data,val_targets),epochs=100,verbose=1)"
      ],
      "execution_count": null,
      "outputs": [
        {
          "output_type": "stream",
          "text": [
            "Epoch 1/100\n",
            "17/17 [==============================] - 1s 14ms/step - loss: 1527.3486 - mae: 35.7614 - val_loss: 1525.9685 - val_mae: 35.1819\n",
            "Epoch 2/100\n",
            "17/17 [==============================] - 0s 3ms/step - loss: 1610.0226 - mae: 36.8155 - val_loss: 1508.5668 - val_mae: 34.9430\n",
            "Epoch 3/100\n",
            "17/17 [==============================] - 0s 3ms/step - loss: 1468.0801 - mae: 35.1443 - val_loss: 1492.2964 - val_mae: 34.7164\n",
            "Epoch 4/100\n",
            "17/17 [==============================] - 0s 3ms/step - loss: 1534.4839 - mae: 35.7509 - val_loss: 1474.7609 - val_mae: 34.4718\n",
            "Epoch 5/100\n",
            "17/17 [==============================] - 0s 3ms/step - loss: 1465.5961 - mae: 35.0348 - val_loss: 1454.8811 - val_mae: 34.1918\n",
            "Epoch 6/100\n",
            "17/17 [==============================] - 0s 3ms/step - loss: 1478.7167 - mae: 35.1484 - val_loss: 1429.8411 - val_mae: 33.8390\n",
            "Epoch 7/100\n",
            "17/17 [==============================] - 0s 3ms/step - loss: 1356.7952 - mae: 33.4530 - val_loss: 1397.5946 - val_mae: 33.3836\n",
            "Epoch 8/100\n",
            "17/17 [==============================] - 0s 4ms/step - loss: 1293.8895 - mae: 32.8101 - val_loss: 1356.9014 - val_mae: 32.8066\n",
            "Epoch 9/100\n",
            "17/17 [==============================] - 0s 4ms/step - loss: 1341.4842 - mae: 33.1132 - val_loss: 1307.5634 - val_mae: 32.0975\n",
            "Epoch 10/100\n",
            "17/17 [==============================] - 0s 3ms/step - loss: 1268.3473 - mae: 32.1805 - val_loss: 1247.6823 - val_mae: 31.2234\n",
            "Epoch 11/100\n",
            "17/17 [==============================] - 0s 3ms/step - loss: 1297.4875 - mae: 32.2641 - val_loss: 1176.9705 - val_mae: 30.1681\n",
            "Epoch 12/100\n",
            "17/17 [==============================] - 0s 3ms/step - loss: 1159.3161 - mae: 30.3145 - val_loss: 1096.3391 - val_mae: 28.9215\n",
            "Epoch 13/100\n",
            "17/17 [==============================] - 0s 3ms/step - loss: 1079.0753 - mae: 29.1762 - val_loss: 1005.7898 - val_mae: 27.4627\n",
            "Epoch 14/100\n",
            "17/17 [==============================] - 0s 3ms/step - loss: 993.6600 - mae: 27.7097 - val_loss: 908.7957 - val_mae: 25.8089\n",
            "Epoch 15/100\n",
            "17/17 [==============================] - 0s 3ms/step - loss: 841.2073 - mae: 25.1355 - val_loss: 810.7250 - val_mae: 24.0940\n",
            "Epoch 16/100\n",
            "17/17 [==============================] - 0s 3ms/step - loss: 766.5884 - mae: 23.5901 - val_loss: 710.6648 - val_mae: 22.2945\n",
            "Epoch 17/100\n",
            "17/17 [==============================] - 0s 3ms/step - loss: 738.3344 - mae: 23.5068 - val_loss: 612.8516 - val_mae: 20.4363\n",
            "Epoch 18/100\n",
            "17/17 [==============================] - 0s 3ms/step - loss: 546.6652 - mae: 19.6144 - val_loss: 526.3476 - val_mae: 18.6640\n",
            "Epoch 19/100\n",
            "17/17 [==============================] - 0s 3ms/step - loss: 512.9664 - mae: 18.9696 - val_loss: 447.2587 - val_mae: 16.9316\n",
            "Epoch 20/100\n",
            "17/17 [==============================] - 0s 3ms/step - loss: 455.4927 - mae: 17.1484 - val_loss: 379.2220 - val_mae: 15.4128\n",
            "Epoch 21/100\n",
            "17/17 [==============================] - 0s 3ms/step - loss: 360.0852 - mae: 15.3939 - val_loss: 321.0303 - val_mae: 14.1130\n",
            "Epoch 22/100\n",
            "17/17 [==============================] - 0s 3ms/step - loss: 300.7460 - mae: 14.0619 - val_loss: 280.3061 - val_mae: 13.1206\n",
            "Epoch 23/100\n",
            "17/17 [==============================] - 0s 3ms/step - loss: 255.5614 - mae: 12.7420 - val_loss: 249.3711 - val_mae: 12.3785\n",
            "Epoch 24/100\n",
            "17/17 [==============================] - 0s 4ms/step - loss: 266.1334 - mae: 13.0783 - val_loss: 228.2699 - val_mae: 11.8761\n",
            "Epoch 25/100\n",
            "17/17 [==============================] - 0s 3ms/step - loss: 233.0229 - mae: 12.2336 - val_loss: 213.8068 - val_mae: 11.5252\n",
            "Epoch 26/100\n",
            "17/17 [==============================] - 0s 4ms/step - loss: 234.2366 - mae: 12.5305 - val_loss: 203.5356 - val_mae: 11.2827\n",
            "Epoch 27/100\n",
            "17/17 [==============================] - 0s 3ms/step - loss: 217.6551 - mae: 11.9351 - val_loss: 194.0099 - val_mae: 11.0725\n",
            "Epoch 28/100\n",
            "17/17 [==============================] - 0s 3ms/step - loss: 210.0453 - mae: 11.7644 - val_loss: 189.3805 - val_mae: 10.9686\n",
            "Epoch 29/100\n",
            "17/17 [==============================] - 0s 3ms/step - loss: 207.3377 - mae: 11.6477 - val_loss: 184.0140 - val_mae: 10.8463\n",
            "Epoch 30/100\n",
            "17/17 [==============================] - 0s 3ms/step - loss: 189.4325 - mae: 11.3028 - val_loss: 178.3165 - val_mae: 10.7225\n",
            "Epoch 31/100\n",
            "17/17 [==============================] - 0s 4ms/step - loss: 203.4481 - mae: 11.5335 - val_loss: 174.6733 - val_mae: 10.6299\n",
            "Epoch 32/100\n",
            "17/17 [==============================] - 0s 4ms/step - loss: 199.7954 - mae: 11.3450 - val_loss: 169.7690 - val_mae: 10.5135\n",
            "Epoch 33/100\n",
            "17/17 [==============================] - 0s 4ms/step - loss: 199.4616 - mae: 11.5901 - val_loss: 165.9297 - val_mae: 10.4122\n",
            "Epoch 34/100\n",
            "17/17 [==============================] - 0s 3ms/step - loss: 198.9191 - mae: 11.4445 - val_loss: 164.1242 - val_mae: 10.3552\n",
            "Epoch 35/100\n",
            "17/17 [==============================] - 0s 3ms/step - loss: 180.1416 - mae: 10.7493 - val_loss: 162.2899 - val_mae: 10.2972\n",
            "Epoch 36/100\n",
            "17/17 [==============================] - 0s 3ms/step - loss: 178.8626 - mae: 11.1609 - val_loss: 159.0096 - val_mae: 10.2112\n",
            "Epoch 37/100\n",
            "17/17 [==============================] - 0s 3ms/step - loss: 174.0802 - mae: 10.7209 - val_loss: 158.4421 - val_mae: 10.1806\n",
            "Epoch 38/100\n",
            "17/17 [==============================] - 0s 3ms/step - loss: 174.6226 - mae: 10.8552 - val_loss: 156.1647 - val_mae: 10.1115\n",
            "Epoch 39/100\n",
            "17/17 [==============================] - 0s 3ms/step - loss: 181.6163 - mae: 11.0934 - val_loss: 154.1188 - val_mae: 10.0480\n",
            "Epoch 40/100\n",
            "17/17 [==============================] - 0s 4ms/step - loss: 176.0403 - mae: 10.8205 - val_loss: 151.8951 - val_mae: 9.9814\n",
            "Epoch 41/100\n",
            "17/17 [==============================] - 0s 3ms/step - loss: 170.6856 - mae: 10.7307 - val_loss: 152.7488 - val_mae: 10.0085\n",
            "Epoch 42/100\n",
            "17/17 [==============================] - 0s 4ms/step - loss: 173.5044 - mae: 10.7129 - val_loss: 151.7277 - val_mae: 9.9764\n",
            "Epoch 43/100\n",
            "17/17 [==============================] - 0s 3ms/step - loss: 173.3915 - mae: 10.7015 - val_loss: 149.6758 - val_mae: 9.9117\n",
            "Epoch 44/100\n",
            "17/17 [==============================] - 0s 3ms/step - loss: 159.2084 - mae: 10.3850 - val_loss: 147.5345 - val_mae: 9.8481\n",
            "Epoch 45/100\n",
            "17/17 [==============================] - 0s 3ms/step - loss: 157.1878 - mae: 10.3965 - val_loss: 145.5363 - val_mae: 9.7950\n",
            "Epoch 46/100\n",
            "17/17 [==============================] - 0s 3ms/step - loss: 168.3645 - mae: 10.6000 - val_loss: 143.8391 - val_mae: 9.7486\n",
            "Epoch 47/100\n",
            "17/17 [==============================] - 0s 3ms/step - loss: 161.1817 - mae: 10.3805 - val_loss: 143.2893 - val_mae: 9.7299\n",
            "Epoch 48/100\n",
            "17/17 [==============================] - 0s 3ms/step - loss: 158.2054 - mae: 10.3729 - val_loss: 142.2042 - val_mae: 9.7057\n",
            "Epoch 49/100\n",
            "17/17 [==============================] - 0s 4ms/step - loss: 142.9802 - mae: 10.0722 - val_loss: 141.7129 - val_mae: 9.6882\n",
            "Epoch 50/100\n",
            "17/17 [==============================] - 0s 4ms/step - loss: 138.8844 - mae: 9.6549 - val_loss: 141.3546 - val_mae: 9.6770\n",
            "Epoch 51/100\n",
            "17/17 [==============================] - 0s 3ms/step - loss: 151.4514 - mae: 10.0659 - val_loss: 142.3323 - val_mae: 9.6986\n",
            "Epoch 52/100\n",
            "17/17 [==============================] - 0s 4ms/step - loss: 162.8238 - mae: 10.6222 - val_loss: 140.9033 - val_mae: 9.6591\n",
            "Epoch 53/100\n",
            "17/17 [==============================] - 0s 3ms/step - loss: 147.2273 - mae: 9.8107 - val_loss: 141.9992 - val_mae: 9.6704\n",
            "Epoch 54/100\n",
            "17/17 [==============================] - 0s 4ms/step - loss: 140.3655 - mae: 9.8171 - val_loss: 140.2237 - val_mae: 9.6273\n",
            "Epoch 55/100\n",
            "17/17 [==============================] - 0s 4ms/step - loss: 145.7360 - mae: 10.0403 - val_loss: 138.5584 - val_mae: 9.5781\n",
            "Epoch 56/100\n",
            "17/17 [==============================] - 0s 4ms/step - loss: 155.6980 - mae: 10.1595 - val_loss: 136.6038 - val_mae: 9.5288\n",
            "Epoch 57/100\n",
            "17/17 [==============================] - 0s 4ms/step - loss: 149.5266 - mae: 10.0616 - val_loss: 135.1015 - val_mae: 9.4806\n",
            "Epoch 58/100\n",
            "17/17 [==============================] - 0s 4ms/step - loss: 143.4350 - mae: 9.7714 - val_loss: 134.3745 - val_mae: 9.4487\n",
            "Epoch 59/100\n",
            "17/17 [==============================] - 0s 3ms/step - loss: 135.1549 - mae: 9.5549 - val_loss: 133.6571 - val_mae: 9.4153\n",
            "Epoch 60/100\n",
            "17/17 [==============================] - 0s 4ms/step - loss: 139.9746 - mae: 9.5002 - val_loss: 133.0454 - val_mae: 9.3926\n",
            "Epoch 61/100\n",
            "17/17 [==============================] - 0s 3ms/step - loss: 144.4479 - mae: 9.8728 - val_loss: 132.6722 - val_mae: 9.3687\n",
            "Epoch 62/100\n",
            "17/17 [==============================] - 0s 3ms/step - loss: 138.1406 - mae: 9.6744 - val_loss: 134.4992 - val_mae: 9.4194\n",
            "Epoch 63/100\n",
            "17/17 [==============================] - 0s 3ms/step - loss: 138.6588 - mae: 9.6574 - val_loss: 133.7393 - val_mae: 9.3855\n",
            "Epoch 64/100\n",
            "17/17 [==============================] - 0s 4ms/step - loss: 137.1006 - mae: 9.7165 - val_loss: 131.5278 - val_mae: 9.3231\n",
            "Epoch 65/100\n",
            "17/17 [==============================] - 0s 3ms/step - loss: 142.5967 - mae: 9.9579 - val_loss: 131.4928 - val_mae: 9.3237\n",
            "Epoch 66/100\n",
            "17/17 [==============================] - 0s 4ms/step - loss: 132.2139 - mae: 9.5703 - val_loss: 130.7264 - val_mae: 9.3022\n",
            "Epoch 67/100\n",
            "17/17 [==============================] - 0s 4ms/step - loss: 136.9113 - mae: 9.5046 - val_loss: 130.3907 - val_mae: 9.3052\n",
            "Epoch 68/100\n",
            "17/17 [==============================] - 0s 4ms/step - loss: 134.0863 - mae: 9.6139 - val_loss: 129.8620 - val_mae: 9.2907\n",
            "Epoch 69/100\n",
            "17/17 [==============================] - 0s 3ms/step - loss: 148.5890 - mae: 9.9298 - val_loss: 129.1131 - val_mae: 9.2704\n",
            "Epoch 70/100\n",
            "17/17 [==============================] - 0s 4ms/step - loss: 142.8395 - mae: 9.6627 - val_loss: 128.4402 - val_mae: 9.2452\n",
            "Epoch 71/100\n",
            "17/17 [==============================] - 0s 4ms/step - loss: 152.7125 - mae: 9.9993 - val_loss: 127.5819 - val_mae: 9.2161\n",
            "Epoch 72/100\n",
            "17/17 [==============================] - 0s 3ms/step - loss: 130.9712 - mae: 9.4255 - val_loss: 127.5586 - val_mae: 9.2077\n",
            "Epoch 73/100\n",
            "17/17 [==============================] - 0s 4ms/step - loss: 123.0532 - mae: 9.0509 - val_loss: 127.7439 - val_mae: 9.2048\n",
            "Epoch 74/100\n",
            "17/17 [==============================] - 0s 3ms/step - loss: 135.8837 - mae: 9.4893 - val_loss: 127.9350 - val_mae: 9.1982\n",
            "Epoch 75/100\n",
            "17/17 [==============================] - 0s 3ms/step - loss: 132.7513 - mae: 9.3516 - val_loss: 127.7856 - val_mae: 9.1933\n",
            "Epoch 76/100\n",
            "17/17 [==============================] - 0s 4ms/step - loss: 124.1101 - mae: 9.0398 - val_loss: 126.9636 - val_mae: 9.1676\n",
            "Epoch 77/100\n",
            "17/17 [==============================] - 0s 3ms/step - loss: 134.9309 - mae: 9.4599 - val_loss: 125.6967 - val_mae: 9.1275\n",
            "Epoch 78/100\n",
            "17/17 [==============================] - 0s 3ms/step - loss: 129.4025 - mae: 9.3392 - val_loss: 125.8621 - val_mae: 9.1191\n",
            "Epoch 79/100\n",
            "17/17 [==============================] - 0s 4ms/step - loss: 131.5132 - mae: 9.3102 - val_loss: 125.5919 - val_mae: 9.1011\n",
            "Epoch 80/100\n",
            "17/17 [==============================] - 0s 3ms/step - loss: 130.7964 - mae: 9.3988 - val_loss: 124.8642 - val_mae: 9.0766\n",
            "Epoch 81/100\n",
            "17/17 [==============================] - 0s 3ms/step - loss: 120.1960 - mae: 9.0262 - val_loss: 124.2754 - val_mae: 9.0486\n",
            "Epoch 82/100\n",
            "17/17 [==============================] - 0s 3ms/step - loss: 134.2209 - mae: 9.3659 - val_loss: 123.6979 - val_mae: 9.0284\n",
            "Epoch 83/100\n",
            "17/17 [==============================] - 0s 4ms/step - loss: 138.2144 - mae: 9.6917 - val_loss: 123.2202 - val_mae: 9.0044\n",
            "Epoch 84/100\n",
            "17/17 [==============================] - 0s 4ms/step - loss: 128.3779 - mae: 9.2076 - val_loss: 123.2124 - val_mae: 8.9987\n",
            "Epoch 85/100\n",
            "17/17 [==============================] - 0s 4ms/step - loss: 126.7980 - mae: 9.2579 - val_loss: 123.1559 - val_mae: 8.9850\n",
            "Epoch 86/100\n",
            "17/17 [==============================] - 0s 4ms/step - loss: 129.1254 - mae: 9.1985 - val_loss: 122.7309 - val_mae: 8.9598\n",
            "Epoch 87/100\n",
            "17/17 [==============================] - 0s 4ms/step - loss: 134.1263 - mae: 9.3220 - val_loss: 122.1190 - val_mae: 8.9441\n",
            "Epoch 88/100\n",
            "17/17 [==============================] - 0s 4ms/step - loss: 130.6116 - mae: 9.3259 - val_loss: 121.9784 - val_mae: 8.9348\n",
            "Epoch 89/100\n",
            "17/17 [==============================] - 0s 3ms/step - loss: 123.1800 - mae: 9.0279 - val_loss: 121.7848 - val_mae: 8.9206\n",
            "Epoch 90/100\n",
            "17/17 [==============================] - 0s 3ms/step - loss: 128.1730 - mae: 9.2317 - val_loss: 121.0608 - val_mae: 8.9069\n",
            "Epoch 91/100\n",
            "17/17 [==============================] - 0s 3ms/step - loss: 112.2091 - mae: 8.5869 - val_loss: 121.3528 - val_mae: 8.8901\n",
            "Epoch 92/100\n",
            "17/17 [==============================] - 0s 3ms/step - loss: 118.4375 - mae: 8.9901 - val_loss: 120.6498 - val_mae: 8.8691\n",
            "Epoch 93/100\n",
            "17/17 [==============================] - 0s 3ms/step - loss: 116.8764 - mae: 8.8219 - val_loss: 120.6746 - val_mae: 8.8562\n",
            "Epoch 94/100\n",
            "17/17 [==============================] - 0s 4ms/step - loss: 120.3975 - mae: 8.9086 - val_loss: 119.7264 - val_mae: 8.8534\n",
            "Epoch 95/100\n",
            "17/17 [==============================] - 0s 3ms/step - loss: 119.1754 - mae: 8.9243 - val_loss: 118.6489 - val_mae: 8.8340\n",
            "Epoch 96/100\n",
            "17/17 [==============================] - 0s 4ms/step - loss: 123.5475 - mae: 8.9390 - val_loss: 118.5227 - val_mae: 8.8276\n",
            "Epoch 97/100\n",
            "17/17 [==============================] - 0s 4ms/step - loss: 110.6673 - mae: 8.6352 - val_loss: 118.0207 - val_mae: 8.8056\n",
            "Epoch 98/100\n",
            "17/17 [==============================] - 0s 4ms/step - loss: 124.9815 - mae: 9.1622 - val_loss: 119.1186 - val_mae: 8.7933\n",
            "Epoch 99/100\n",
            "17/17 [==============================] - 0s 3ms/step - loss: 112.8903 - mae: 8.7316 - val_loss: 118.9656 - val_mae: 8.7726\n",
            "Epoch 100/100\n",
            "17/17 [==============================] - 0s 4ms/step - loss: 118.2247 - mae: 8.9987 - val_loss: 117.9403 - val_mae: 8.7523\n"
          ],
          "name": "stdout"
        }
      ]
    },
    {
      "cell_type": "code",
      "metadata": {
        "colab": {
          "base_uri": "https://localhost:8080/",
          "height": 727
        },
        "id": "C85pLZvgkYMm",
        "outputId": "cddcc67b-efb0-4f06-a3fa-d03482553d06"
      },
      "source": [
        "import matplotlib.pyplot as plt\n",
        "\n",
        "plt.figure(figsize=(20,15))\n",
        "\n",
        "mae = history.history['mae']\n",
        "val_mae = history.history['val_mae']\n",
        "epochs = range(1, len(mae) + 1)\n",
        "\n",
        "plt.plot(epochs, mae, 'b--', label='Training mae', linewidth=12)\n",
        "plt.plot(epochs, val_mae, 'r', label='Validation mae', linewidth=5)\n",
        "\n",
        "plt.xlabel('Epochs')\n",
        "plt.ylabel('MAE')\n",
        "plt.title('Mean Absolute Error')\n",
        "plt.legend()\n",
        "plt.show()"
      ],
      "execution_count": null,
      "outputs": [
        {
          "output_type": "display_data",
          "data": {
            "image/png": "[encoded data removed]",
            "text/plain": [
              "<Figure size 1440x1080 with 1 Axes>"
            ]
          },
          "metadata": {
            "tags": [],
            "needs_background": "light"
          }
        }
      ]
    },
    {
      "cell_type": "markdown",
      "metadata": {
        "id": "kWd-wkeZlpzg"
      },
      "source": [
        "**Adding Regularizer**"
      ]
    },
    {
      "cell_type": "code",
      "metadata": {
        "id": "vdayjlYvls3C"
      },
      "source": [
        "from keras import layers, models, regularizers\n",
        "\n",
        "def build_model():\n",
        "    \n",
        "    model = models.Sequential()\n",
        "    \n",
        "    model.add(layers.Dense(10, activation='relu', input_shape=(train_data.shape[1],), kernel_regularizer=regularizers.L2(0.001)))\n",
        "    \n",
        "    model.add(layers.Dense(8, activation='relu', kernel_regularizer=regularizers.L2(0.001)))\n",
        "        \n",
        "    model.add(layers.Dense(6, activation='relu', kernel_regularizer=regularizers.L2(0.001)))\n",
        "    \n",
        "    model.add(layers.Dense(1))\n",
        "    \n",
        "    model.compile(optimizer='Adam', loss='mse', metrics=['mae'])\n",
        "    \n",
        "    \n",
        "    return model"
      ],
      "execution_count": null,
      "outputs": []
    },
    {
      "cell_type": "code",
      "metadata": {
        "id": "obiT7IIOl7XQ"
      },
      "source": [
        "model_1 = build_model()"
      ],
      "execution_count": null,
      "outputs": []
    },
    {
      "cell_type": "code",
      "metadata": {
        "colab": {
          "base_uri": "https://localhost:8080/"
        },
        "id": "PTDYdK1el_Qe",
        "outputId": "503f7e3d-6f91-4b4c-f4f0-cdd3e62c7a52"
      },
      "source": [
        "history_1 = model_1.fit(train_data, train_targets, validation_data = (val_data, val_targets), epochs=100, verbose=1)"
      ],
      "execution_count": null,
      "outputs": [
        {
          "output_type": "stream",
          "text": [
            "Epoch 1/100\n",
            "17/17 [==============================] - 1s 12ms/step - loss: 1497.2619 - mae: 35.4359 - val_loss: 1453.5421 - val_mae: 34.2369\n",
            "Epoch 2/100\n",
            "17/17 [==============================] - 0s 3ms/step - loss: 1363.8528 - mae: 33.5930 - val_loss: 1418.1301 - val_mae: 33.7642\n",
            "Epoch 3/100\n",
            "17/17 [==============================] - 0s 3ms/step - loss: 1425.0874 - mae: 34.2423 - val_loss: 1377.1002 - val_mae: 33.2050\n",
            "Epoch 4/100\n",
            "17/17 [==============================] - 0s 3ms/step - loss: 1383.8558 - mae: 33.7086 - val_loss: 1327.9004 - val_mae: 32.5257\n",
            "Epoch 5/100\n",
            "17/17 [==============================] - 0s 3ms/step - loss: 1319.0410 - mae: 33.2890 - val_loss: 1267.5670 - val_mae: 31.6706\n",
            "Epoch 6/100\n",
            "17/17 [==============================] - 0s 3ms/step - loss: 1330.0104 - mae: 32.8918 - val_loss: 1196.3389 - val_mae: 30.6279\n",
            "Epoch 7/100\n",
            "17/17 [==============================] - 0s 3ms/step - loss: 1170.7202 - mae: 30.7626 - val_loss: 1109.0341 - val_mae: 29.3215\n",
            "Epoch 8/100\n",
            "17/17 [==============================] - 0s 3ms/step - loss: 1078.7752 - mae: 29.1916 - val_loss: 1005.6618 - val_mae: 27.7201\n",
            "Epoch 9/100\n",
            "17/17 [==============================] - 0s 3ms/step - loss: 961.1153 - mae: 27.3986 - val_loss: 887.5090 - val_mae: 25.7739\n",
            "Epoch 10/100\n",
            "17/17 [==============================] - 0s 3ms/step - loss: 890.1325 - mae: 26.3119 - val_loss: 751.3181 - val_mae: 23.4019\n",
            "Epoch 11/100\n",
            "17/17 [==============================] - 0s 3ms/step - loss: 741.4104 - mae: 23.4948 - val_loss: 616.0431 - val_mae: 20.8335\n",
            "Epoch 12/100\n",
            "17/17 [==============================] - 0s 3ms/step - loss: 552.4054 - mae: 19.8827 - val_loss: 486.0489 - val_mae: 18.0708\n",
            "Epoch 13/100\n",
            "17/17 [==============================] - 0s 3ms/step - loss: 478.5320 - mae: 18.1486 - val_loss: 374.0878 - val_mae: 15.3876\n",
            "Epoch 14/100\n",
            "17/17 [==============================] - 0s 3ms/step - loss: 363.3210 - mae: 15.5265 - val_loss: 293.0208 - val_mae: 13.5101\n",
            "Epoch 15/100\n",
            "17/17 [==============================] - 0s 4ms/step - loss: 269.5901 - mae: 13.3271 - val_loss: 243.0266 - val_mae: 12.4214\n",
            "Epoch 16/100\n",
            "17/17 [==============================] - 0s 3ms/step - loss: 239.4189 - mae: 12.5185 - val_loss: 214.6904 - val_mae: 11.6948\n",
            "Epoch 17/100\n",
            "17/17 [==============================] - 0s 3ms/step - loss: 241.9604 - mae: 12.1935 - val_loss: 203.7699 - val_mae: 11.3392\n",
            "Epoch 18/100\n",
            "17/17 [==============================] - 0s 4ms/step - loss: 228.6945 - mae: 12.1989 - val_loss: 196.1436 - val_mae: 11.0898\n",
            "Epoch 19/100\n",
            "17/17 [==============================] - 0s 3ms/step - loss: 200.5229 - mae: 11.2755 - val_loss: 190.7623 - val_mae: 10.9234\n",
            "Epoch 20/100\n",
            "17/17 [==============================] - 0s 3ms/step - loss: 211.9526 - mae: 11.4332 - val_loss: 187.2967 - val_mae: 10.8227\n",
            "Epoch 21/100\n",
            "17/17 [==============================] - 0s 3ms/step - loss: 182.3046 - mae: 10.7626 - val_loss: 186.8330 - val_mae: 10.8472\n",
            "Epoch 22/100\n",
            "17/17 [==============================] - 0s 3ms/step - loss: 209.7615 - mae: 11.7095 - val_loss: 182.9529 - val_mae: 10.7350\n",
            "Epoch 23/100\n",
            "17/17 [==============================] - 0s 3ms/step - loss: 185.9618 - mae: 10.9169 - val_loss: 179.0808 - val_mae: 10.6258\n",
            "Epoch 24/100\n",
            "17/17 [==============================] - 0s 3ms/step - loss: 187.2289 - mae: 10.9370 - val_loss: 175.1252 - val_mae: 10.5082\n",
            "Epoch 25/100\n",
            "17/17 [==============================] - 0s 3ms/step - loss: 182.2093 - mae: 10.8439 - val_loss: 172.8833 - val_mae: 10.4479\n",
            "Epoch 26/100\n",
            "17/17 [==============================] - 0s 3ms/step - loss: 173.1931 - mae: 10.5220 - val_loss: 170.6006 - val_mae: 10.3856\n",
            "Epoch 27/100\n",
            "17/17 [==============================] - 0s 3ms/step - loss: 174.9472 - mae: 10.4283 - val_loss: 168.9558 - val_mae: 10.3444\n",
            "Epoch 28/100\n",
            "17/17 [==============================] - 0s 3ms/step - loss: 185.3655 - mae: 10.9696 - val_loss: 169.3483 - val_mae: 10.3522\n",
            "Epoch 29/100\n",
            "17/17 [==============================] - 0s 3ms/step - loss: 164.0059 - mae: 10.3109 - val_loss: 167.9063 - val_mae: 10.3142\n",
            "Epoch 30/100\n",
            "17/17 [==============================] - 0s 3ms/step - loss: 170.6269 - mae: 10.6434 - val_loss: 166.1283 - val_mae: 10.2689\n",
            "Epoch 31/100\n",
            "17/17 [==============================] - 0s 3ms/step - loss: 158.0565 - mae: 10.1470 - val_loss: 164.4768 - val_mae: 10.2242\n",
            "Epoch 32/100\n",
            "17/17 [==============================] - 0s 4ms/step - loss: 179.0111 - mae: 10.8894 - val_loss: 162.7411 - val_mae: 10.1807\n",
            "Epoch 33/100\n",
            "17/17 [==============================] - 0s 4ms/step - loss: 159.0166 - mae: 10.0681 - val_loss: 161.9747 - val_mae: 10.1792\n",
            "Epoch 34/100\n",
            "17/17 [==============================] - 0s 4ms/step - loss: 158.7697 - mae: 10.2965 - val_loss: 161.6229 - val_mae: 10.1557\n",
            "Epoch 35/100\n",
            "17/17 [==============================] - 0s 3ms/step - loss: 161.2489 - mae: 10.3331 - val_loss: 159.6237 - val_mae: 10.1081\n",
            "Epoch 36/100\n",
            "17/17 [==============================] - 0s 3ms/step - loss: 164.1923 - mae: 10.3151 - val_loss: 159.9206 - val_mae: 10.1025\n",
            "Epoch 37/100\n",
            "17/17 [==============================] - 0s 3ms/step - loss: 170.7988 - mae: 10.6514 - val_loss: 157.1286 - val_mae: 10.0339\n",
            "Epoch 38/100\n",
            "17/17 [==============================] - 0s 3ms/step - loss: 156.1508 - mae: 10.2363 - val_loss: 155.4110 - val_mae: 9.9780\n",
            "Epoch 39/100\n",
            "17/17 [==============================] - 0s 3ms/step - loss: 160.9131 - mae: 10.2269 - val_loss: 154.8986 - val_mae: 9.9542\n",
            "Epoch 40/100\n",
            "17/17 [==============================] - 0s 3ms/step - loss: 158.7221 - mae: 10.0986 - val_loss: 154.4994 - val_mae: 9.9332\n",
            "Epoch 41/100\n",
            "17/17 [==============================] - 0s 3ms/step - loss: 162.8661 - mae: 10.2756 - val_loss: 153.6291 - val_mae: 9.9066\n",
            "Epoch 42/100\n",
            "17/17 [==============================] - 0s 3ms/step - loss: 163.0745 - mae: 10.2746 - val_loss: 153.3385 - val_mae: 9.8901\n",
            "Epoch 43/100\n",
            "17/17 [==============================] - 0s 3ms/step - loss: 159.4438 - mae: 10.1416 - val_loss: 152.4911 - val_mae: 9.8733\n",
            "Epoch 44/100\n",
            "17/17 [==============================] - 0s 3ms/step - loss: 159.7805 - mae: 10.3206 - val_loss: 152.1975 - val_mae: 9.8609\n",
            "Epoch 45/100\n",
            "17/17 [==============================] - 0s 3ms/step - loss: 157.7331 - mae: 10.0686 - val_loss: 152.1415 - val_mae: 9.8669\n",
            "Epoch 46/100\n",
            "17/17 [==============================] - 0s 3ms/step - loss: 148.8431 - mae: 9.9661 - val_loss: 151.2760 - val_mae: 9.8468\n",
            "Epoch 47/100\n",
            "17/17 [==============================] - 0s 3ms/step - loss: 148.7047 - mae: 9.6746 - val_loss: 149.8795 - val_mae: 9.8118\n",
            "Epoch 48/100\n",
            "17/17 [==============================] - 0s 4ms/step - loss: 151.2057 - mae: 9.9167 - val_loss: 148.6741 - val_mae: 9.7799\n",
            "Epoch 49/100\n",
            "17/17 [==============================] - 0s 4ms/step - loss: 140.8113 - mae: 9.6764 - val_loss: 148.5779 - val_mae: 9.7835\n",
            "Epoch 50/100\n",
            "17/17 [==============================] - 0s 4ms/step - loss: 149.1932 - mae: 9.9089 - val_loss: 148.7105 - val_mae: 9.7758\n",
            "Epoch 51/100\n",
            "17/17 [==============================] - 0s 4ms/step - loss: 144.7822 - mae: 9.7303 - val_loss: 148.4442 - val_mae: 9.7809\n",
            "Epoch 52/100\n",
            "17/17 [==============================] - 0s 3ms/step - loss: 159.8519 - mae: 10.1803 - val_loss: 145.8337 - val_mae: 9.7236\n",
            "Epoch 53/100\n",
            "17/17 [==============================] - 0s 3ms/step - loss: 153.0745 - mae: 9.8297 - val_loss: 145.8708 - val_mae: 9.7175\n",
            "Epoch 54/100\n",
            "17/17 [==============================] - 0s 4ms/step - loss: 150.4473 - mae: 9.9172 - val_loss: 145.4612 - val_mae: 9.7067\n",
            "Epoch 55/100\n",
            "17/17 [==============================] - 0s 3ms/step - loss: 166.8696 - mae: 10.5448 - val_loss: 145.5174 - val_mae: 9.6961\n",
            "Epoch 56/100\n",
            "17/17 [==============================] - 0s 3ms/step - loss: 147.3254 - mae: 9.6777 - val_loss: 145.3007 - val_mae: 9.6875\n",
            "Epoch 57/100\n",
            "17/17 [==============================] - 0s 4ms/step - loss: 148.2489 - mae: 9.9180 - val_loss: 144.5117 - val_mae: 9.6701\n",
            "Epoch 58/100\n",
            "17/17 [==============================] - 0s 3ms/step - loss: 148.2287 - mae: 10.0436 - val_loss: 144.2255 - val_mae: 9.6908\n",
            "Epoch 59/100\n",
            "17/17 [==============================] - 0s 3ms/step - loss: 155.0087 - mae: 10.1463 - val_loss: 144.4599 - val_mae: 9.7033\n",
            "Epoch 60/100\n",
            "17/17 [==============================] - 0s 3ms/step - loss: 142.8387 - mae: 9.8409 - val_loss: 145.1599 - val_mae: 9.7150\n",
            "Epoch 61/100\n",
            "17/17 [==============================] - 0s 3ms/step - loss: 149.6976 - mae: 9.9555 - val_loss: 144.3613 - val_mae: 9.6922\n",
            "Epoch 62/100\n",
            "17/17 [==============================] - 0s 3ms/step - loss: 139.7121 - mae: 9.5726 - val_loss: 142.6724 - val_mae: 9.6445\n",
            "Epoch 63/100\n",
            "17/17 [==============================] - 0s 4ms/step - loss: 127.4873 - mae: 9.0245 - val_loss: 141.8377 - val_mae: 9.6238\n",
            "Epoch 64/100\n",
            "17/17 [==============================] - 0s 4ms/step - loss: 150.7247 - mae: 9.9812 - val_loss: 141.6018 - val_mae: 9.6258\n",
            "Epoch 65/100\n",
            "17/17 [==============================] - 0s 4ms/step - loss: 131.3531 - mae: 9.3769 - val_loss: 142.7782 - val_mae: 9.6648\n",
            "Epoch 66/100\n",
            "17/17 [==============================] - 0s 3ms/step - loss: 135.2307 - mae: 9.4604 - val_loss: 142.2813 - val_mae: 9.6496\n",
            "Epoch 67/100\n",
            "17/17 [==============================] - 0s 3ms/step - loss: 157.8455 - mae: 10.0735 - val_loss: 141.3020 - val_mae: 9.6265\n",
            "Epoch 68/100\n",
            "17/17 [==============================] - 0s 4ms/step - loss: 142.4379 - mae: 9.6189 - val_loss: 139.9362 - val_mae: 9.5997\n",
            "Epoch 69/100\n",
            "17/17 [==============================] - 0s 3ms/step - loss: 141.8533 - mae: 9.7036 - val_loss: 140.2927 - val_mae: 9.6044\n",
            "Epoch 70/100\n",
            "17/17 [==============================] - 0s 3ms/step - loss: 131.8992 - mae: 9.4026 - val_loss: 140.7457 - val_mae: 9.6080\n",
            "Epoch 71/100\n",
            "17/17 [==============================] - 0s 3ms/step - loss: 140.5174 - mae: 9.7502 - val_loss: 139.9051 - val_mae: 9.5864\n",
            "Epoch 72/100\n",
            "17/17 [==============================] - 0s 3ms/step - loss: 136.1438 - mae: 9.4924 - val_loss: 140.3204 - val_mae: 9.5892\n",
            "Epoch 73/100\n",
            "17/17 [==============================] - 0s 3ms/step - loss: 142.5939 - mae: 9.9325 - val_loss: 139.4643 - val_mae: 9.5655\n",
            "Epoch 74/100\n",
            "17/17 [==============================] - 0s 3ms/step - loss: 149.3760 - mae: 10.0089 - val_loss: 138.5550 - val_mae: 9.5367\n",
            "Epoch 75/100\n",
            "17/17 [==============================] - 0s 3ms/step - loss: 134.7392 - mae: 9.4957 - val_loss: 136.7146 - val_mae: 9.4909\n",
            "Epoch 76/100\n",
            "17/17 [==============================] - 0s 4ms/step - loss: 149.5822 - mae: 9.9033 - val_loss: 136.2164 - val_mae: 9.4763\n",
            "Epoch 77/100\n",
            "17/17 [==============================] - 0s 4ms/step - loss: 137.5870 - mae: 9.5674 - val_loss: 135.7054 - val_mae: 9.4712\n",
            "Epoch 78/100\n",
            "17/17 [==============================] - 0s 3ms/step - loss: 125.7732 - mae: 9.1349 - val_loss: 137.5363 - val_mae: 9.5530\n",
            "Epoch 79/100\n",
            "17/17 [==============================] - 0s 4ms/step - loss: 129.9425 - mae: 9.4457 - val_loss: 139.3003 - val_mae: 9.5811\n",
            "Epoch 80/100\n",
            "17/17 [==============================] - 0s 3ms/step - loss: 126.6711 - mae: 9.2553 - val_loss: 137.9565 - val_mae: 9.5405\n",
            "Epoch 81/100\n",
            "17/17 [==============================] - 0s 4ms/step - loss: 135.0337 - mae: 9.5025 - val_loss: 136.8978 - val_mae: 9.5049\n",
            "Epoch 82/100\n",
            "17/17 [==============================] - 0s 3ms/step - loss: 130.6424 - mae: 9.3805 - val_loss: 136.3661 - val_mae: 9.4941\n",
            "Epoch 83/100\n",
            "17/17 [==============================] - 0s 3ms/step - loss: 145.3547 - mae: 9.8106 - val_loss: 136.8122 - val_mae: 9.5166\n",
            "Epoch 84/100\n",
            "17/17 [==============================] - 0s 3ms/step - loss: 135.9312 - mae: 9.5765 - val_loss: 136.7200 - val_mae: 9.4987\n",
            "Epoch 85/100\n",
            "17/17 [==============================] - 0s 4ms/step - loss: 140.4183 - mae: 9.6944 - val_loss: 136.2455 - val_mae: 9.4889\n",
            "Epoch 86/100\n",
            "17/17 [==============================] - 0s 4ms/step - loss: 134.2602 - mae: 9.5440 - val_loss: 135.7777 - val_mae: 9.4692\n",
            "Epoch 87/100\n",
            "17/17 [==============================] - 0s 3ms/step - loss: 139.4599 - mae: 9.5618 - val_loss: 135.5108 - val_mae: 9.4593\n",
            "Epoch 88/100\n",
            "17/17 [==============================] - 0s 4ms/step - loss: 127.1344 - mae: 9.1930 - val_loss: 135.5385 - val_mae: 9.4592\n",
            "Epoch 89/100\n",
            "17/17 [==============================] - 0s 3ms/step - loss: 142.7974 - mae: 9.7730 - val_loss: 135.4711 - val_mae: 9.4572\n",
            "Epoch 90/100\n",
            "17/17 [==============================] - 0s 3ms/step - loss: 126.5194 - mae: 9.1083 - val_loss: 135.8120 - val_mae: 9.4625\n",
            "Epoch 91/100\n",
            "17/17 [==============================] - 0s 4ms/step - loss: 142.3406 - mae: 9.7118 - val_loss: 136.4841 - val_mae: 9.4807\n",
            "Epoch 92/100\n",
            "17/17 [==============================] - 0s 4ms/step - loss: 142.5774 - mae: 9.7093 - val_loss: 134.4727 - val_mae: 9.4391\n",
            "Epoch 93/100\n",
            "17/17 [==============================] - 0s 4ms/step - loss: 124.8973 - mae: 9.2838 - val_loss: 134.0286 - val_mae: 9.4086\n",
            "Epoch 94/100\n",
            "17/17 [==============================] - 0s 3ms/step - loss: 134.3587 - mae: 9.5282 - val_loss: 134.6076 - val_mae: 9.4166\n",
            "Epoch 95/100\n",
            "17/17 [==============================] - 0s 4ms/step - loss: 133.7924 - mae: 9.4410 - val_loss: 134.0227 - val_mae: 9.4056\n",
            "Epoch 96/100\n",
            "17/17 [==============================] - 0s 3ms/step - loss: 130.5413 - mae: 9.4474 - val_loss: 133.6947 - val_mae: 9.3876\n",
            "Epoch 97/100\n",
            "17/17 [==============================] - 0s 4ms/step - loss: 126.3670 - mae: 9.1072 - val_loss: 133.4490 - val_mae: 9.3829\n",
            "Epoch 98/100\n",
            "17/17 [==============================] - 0s 3ms/step - loss: 126.2932 - mae: 9.2055 - val_loss: 132.9337 - val_mae: 9.3647\n",
            "Epoch 99/100\n",
            "17/17 [==============================] - 0s 3ms/step - loss: 139.8408 - mae: 9.6370 - val_loss: 133.0098 - val_mae: 9.3650\n",
            "Epoch 100/100\n",
            "17/17 [==============================] - 0s 3ms/step - loss: 133.1500 - mae: 9.3075 - val_loss: 132.8306 - val_mae: 9.3619\n"
          ],
          "name": "stdout"
        }
      ]
    },
    {
      "cell_type": "code",
      "metadata": {
        "colab": {
          "base_uri": "https://localhost:8080/",
          "height": 727
        },
        "id": "LRKjCJ9YmFgn",
        "outputId": "889b967a-69b6-4c6f-f3ea-eec8d742d4dc"
      },
      "source": [
        "plt.figure(figsize=(20,15))\n",
        "\n",
        "mae = history_1.history['mae']\n",
        "val_mae = history_1.history['val_mae']\n",
        "epochs = range(1, len(mae) + 1)\n",
        "\n",
        "plt.plot(epochs, mae, 'b--', label='Training mae', linewidth=12)\n",
        "plt.plot(epochs, val_mae, 'r', label='Validation mae', linewidth=5)\n",
        "\n",
        "plt.xlabel('Epochs')\n",
        "plt.ylabel('MAE')\n",
        "plt.title('Mean Absolute Error')\n",
        "plt.legend()\n",
        "plt.show()"
      ],
      "execution_count": null,
      "outputs": [
        {
          "output_type": "display_data",
          "data": {
            "image/png": "[encoded data removed]",
            "text/plain": [
              "<Figure size 1440x1080 with 1 Axes>"
            ]
          },
          "metadata": {
            "tags": [],
            "needs_background": "light"
          }
        }
      ]
    },
    {
      "cell_type": "code",
      "metadata": {
        "id": "ZHaucIyTmOC2"
      },
      "source": [
        ""
      ],
      "execution_count": null,
      "outputs": []
    },
    {
      "cell_type": "markdown",
      "metadata": {
        "id": "SARRkJc0mdHp"
      },
      "source": [
        "**Adding Dropout**"
      ]
    },
    {
      "cell_type": "code",
      "metadata": {
        "id": "4aB_K-wjmgt7"
      },
      "source": [
        "\n",
        "    \n",
        "from keras import models\n",
        "from keras import layers\n",
        "model_drop = models.Sequential()\n",
        "model_drop.add(layers.Dense(10,activation = 'relu',input_shape=(train_data.shape[1],)))\n",
        "model_drop.add(layers.Dropout(0.5))\n",
        "model_drop.add(layers.Dense(8,activation='relu'))\n",
        "model_drop.add(layers.Dropout(0.5))\n",
        "model_drop.add(layers.Dense(6,activation='relu'))\n",
        "model_drop.add(layers.Dropout(0.5))\n",
        "model_drop.add(layers.Dense(1))\n",
        "\n"
      ],
      "execution_count": null,
      "outputs": []
    },
    {
      "cell_type": "code",
      "metadata": {
        "colab": {
          "base_uri": "https://localhost:8080/"
        },
        "id": "YegDeSfioOIg",
        "outputId": "dd894f80-3ac6-4853-8ef0-07e209a9de9a"
      },
      "source": [
        "model_drop.summary()"
      ],
      "execution_count": null,
      "outputs": [
        {
          "output_type": "stream",
          "text": [
            "Model: \"sequential_10\"\n",
            "_________________________________________________________________\n",
            "Layer (type)                 Output Shape              Param #   \n",
            "=================================================================\n",
            "dense_40 (Dense)             (None, 10)                90        \n",
            "_________________________________________________________________\n",
            "dropout_15 (Dropout)         (None, 10)                0         \n",
            "_________________________________________________________________\n",
            "dense_41 (Dense)             (None, 8)                 88        \n",
            "_________________________________________________________________\n",
            "dropout_16 (Dropout)         (None, 8)                 0         \n",
            "_________________________________________________________________\n",
            "dense_42 (Dense)             (None, 6)                 54        \n",
            "_________________________________________________________________\n",
            "dropout_17 (Dropout)         (None, 6)                 0         \n",
            "_________________________________________________________________\n",
            "dense_43 (Dense)             (None, 1)                 7         \n",
            "=================================================================\n",
            "Total params: 239\n",
            "Trainable params: 239\n",
            "Non-trainable params: 0\n",
            "_________________________________________________________________\n"
          ],
          "name": "stdout"
        }
      ]
    },
    {
      "cell_type": "code",
      "metadata": {
        "id": "G9mMv-Dvobw1"
      },
      "source": [
        "model_drop.compile(optimizer='Adam', loss='mse', metrics=['mae'])"
      ],
      "execution_count": null,
      "outputs": []
    },
    {
      "cell_type": "code",
      "metadata": {
        "colab": {
          "base_uri": "https://localhost:8080/"
        },
        "id": "LU0LJut9mmQz",
        "outputId": "150b7f01-8784-4920-9cab-2beff2d6a20c"
      },
      "source": [
        "\n",
        "new_istory = model_drop.fit(train_data, train_targets, validation_data = (val_data, val_targets), epochs=100, verbose=1)"
      ],
      "execution_count": null,
      "outputs": [
        {
          "output_type": "stream",
          "text": [
            "Epoch 1/100\n",
            "17/17 [==============================] - 1s 12ms/step - loss: 1460.4375 - mae: 34.6042 - val_loss: 1433.2163 - val_mae: 33.8469\n",
            "Epoch 2/100\n",
            "17/17 [==============================] - 0s 3ms/step - loss: 1448.3066 - mae: 34.5879 - val_loss: 1410.7527 - val_mae: 33.5255\n",
            "Epoch 3/100\n",
            "17/17 [==============================] - 0s 3ms/step - loss: 1332.1123 - mae: 32.9233 - val_loss: 1385.0510 - val_mae: 33.1524\n",
            "Epoch 4/100\n",
            "17/17 [==============================] - 0s 4ms/step - loss: 1438.7012 - mae: 34.2351 - val_loss: 1353.9133 - val_mae: 32.6953\n",
            "Epoch 5/100\n",
            "17/17 [==============================] - 0s 3ms/step - loss: 1388.2278 - mae: 33.5732 - val_loss: 1318.7529 - val_mae: 32.1752\n",
            "Epoch 6/100\n",
            "17/17 [==============================] - 0s 3ms/step - loss: 1293.8094 - mae: 32.3733 - val_loss: 1279.5394 - val_mae: 31.5844\n",
            "Epoch 7/100\n",
            "17/17 [==============================] - 0s 3ms/step - loss: 1237.3010 - mae: 31.5480 - val_loss: 1232.7375 - val_mae: 30.8787\n",
            "Epoch 8/100\n",
            "17/17 [==============================] - 0s 3ms/step - loss: 1225.9792 - mae: 31.2115 - val_loss: 1178.1677 - val_mae: 30.0444\n",
            "Epoch 9/100\n",
            "17/17 [==============================] - 0s 3ms/step - loss: 1211.5928 - mae: 30.6557 - val_loss: 1114.0814 - val_mae: 29.0498\n",
            "Epoch 10/100\n",
            "17/17 [==============================] - 0s 3ms/step - loss: 1093.6880 - mae: 28.9844 - val_loss: 1040.4467 - val_mae: 27.8716\n",
            "Epoch 11/100\n",
            "17/17 [==============================] - 0s 3ms/step - loss: 1027.7988 - mae: 27.8985 - val_loss: 961.2648 - val_mae: 26.5707\n",
            "Epoch 12/100\n",
            "17/17 [==============================] - 0s 3ms/step - loss: 1112.7530 - mae: 28.8275 - val_loss: 887.4686 - val_mae: 25.3510\n",
            "Epoch 13/100\n",
            "17/17 [==============================] - 0s 3ms/step - loss: 921.9560 - mae: 25.5722 - val_loss: 828.2626 - val_mae: 24.3359\n",
            "Epoch 14/100\n",
            "17/17 [==============================] - 0s 3ms/step - loss: 1019.0652 - mae: 27.4117 - val_loss: 770.2240 - val_mae: 23.3007\n",
            "Epoch 15/100\n",
            "17/17 [==============================] - 0s 4ms/step - loss: 883.6607 - mae: 25.4475 - val_loss: 723.6840 - val_mae: 22.4567\n",
            "Epoch 16/100\n",
            "17/17 [==============================] - 0s 3ms/step - loss: 888.1347 - mae: 25.0203 - val_loss: 668.0239 - val_mae: 21.4176\n",
            "Epoch 17/100\n",
            "17/17 [==============================] - 0s 3ms/step - loss: 923.1386 - mae: 25.8664 - val_loss: 641.4537 - val_mae: 20.8951\n",
            "Epoch 18/100\n",
            "17/17 [==============================] - 0s 4ms/step - loss: 875.9529 - mae: 24.8454 - val_loss: 617.9196 - val_mae: 20.4240\n",
            "Epoch 19/100\n",
            "17/17 [==============================] - 0s 4ms/step - loss: 773.2571 - mae: 23.1249 - val_loss: 582.7643 - val_mae: 19.7312\n",
            "Epoch 20/100\n",
            "17/17 [==============================] - 0s 4ms/step - loss: 785.8117 - mae: 23.0300 - val_loss: 557.2355 - val_mae: 19.2318\n",
            "Epoch 21/100\n",
            "17/17 [==============================] - 0s 4ms/step - loss: 771.1652 - mae: 23.2315 - val_loss: 563.2479 - val_mae: 19.3921\n",
            "Epoch 22/100\n",
            "17/17 [==============================] - 0s 3ms/step - loss: 818.2339 - mae: 23.7502 - val_loss: 547.6300 - val_mae: 19.0899\n",
            "Epoch 23/100\n",
            "17/17 [==============================] - 0s 3ms/step - loss: 845.5809 - mae: 24.1812 - val_loss: 523.7612 - val_mae: 18.6053\n",
            "Epoch 24/100\n",
            "17/17 [==============================] - 0s 4ms/step - loss: 837.3940 - mae: 23.5006 - val_loss: 512.8818 - val_mae: 18.3871\n",
            "Epoch 25/100\n",
            "17/17 [==============================] - 0s 4ms/step - loss: 779.7697 - mae: 23.0596 - val_loss: 485.8912 - val_mae: 17.8205\n",
            "Epoch 26/100\n",
            "17/17 [==============================] - 0s 3ms/step - loss: 797.0199 - mae: 23.3478 - val_loss: 473.2110 - val_mae: 17.5606\n",
            "Epoch 27/100\n",
            "17/17 [==============================] - 0s 3ms/step - loss: 712.9560 - mae: 22.2233 - val_loss: 444.6889 - val_mae: 16.9534\n",
            "Epoch 28/100\n",
            "17/17 [==============================] - 0s 3ms/step - loss: 715.8031 - mae: 21.5960 - val_loss: 416.8309 - val_mae: 16.3474\n",
            "Epoch 29/100\n",
            "17/17 [==============================] - 0s 3ms/step - loss: 666.5328 - mae: 21.2746 - val_loss: 409.2250 - val_mae: 16.1810\n",
            "Epoch 30/100\n",
            "17/17 [==============================] - 0s 3ms/step - loss: 649.0017 - mae: 20.8640 - val_loss: 418.5475 - val_mae: 16.3866\n",
            "Epoch 31/100\n",
            "17/17 [==============================] - 0s 3ms/step - loss: 728.3565 - mae: 21.4912 - val_loss: 421.6436 - val_mae: 16.4381\n",
            "Epoch 32/100\n",
            "17/17 [==============================] - 0s 3ms/step - loss: 661.6475 - mae: 20.4865 - val_loss: 425.1294 - val_mae: 16.4982\n",
            "Epoch 33/100\n",
            "17/17 [==============================] - 0s 3ms/step - loss: 797.3692 - mae: 22.5054 - val_loss: 431.2127 - val_mae: 16.6316\n",
            "Epoch 34/100\n",
            "17/17 [==============================] - 0s 4ms/step - loss: 728.8657 - mae: 22.4257 - val_loss: 425.8988 - val_mae: 16.5253\n",
            "Epoch 35/100\n",
            "17/17 [==============================] - 0s 3ms/step - loss: 702.8458 - mae: 22.0218 - val_loss: 406.1604 - val_mae: 16.0962\n",
            "Epoch 36/100\n",
            "17/17 [==============================] - 0s 4ms/step - loss: 718.0335 - mae: 21.8575 - val_loss: 394.9019 - val_mae: 15.8560\n",
            "Epoch 37/100\n",
            "17/17 [==============================] - 0s 3ms/step - loss: 614.8306 - mae: 20.0414 - val_loss: 383.6186 - val_mae: 15.5971\n",
            "Epoch 38/100\n",
            "17/17 [==============================] - 0s 4ms/step - loss: 657.6607 - mae: 20.8386 - val_loss: 368.0895 - val_mae: 15.2410\n",
            "Epoch 39/100\n",
            "17/17 [==============================] - 0s 3ms/step - loss: 660.8125 - mae: 20.6986 - val_loss: 368.4874 - val_mae: 15.2718\n",
            "Epoch 40/100\n",
            "17/17 [==============================] - 0s 3ms/step - loss: 639.2905 - mae: 20.7149 - val_loss: 364.0115 - val_mae: 15.1738\n",
            "Epoch 41/100\n",
            "17/17 [==============================] - 0s 3ms/step - loss: 724.8770 - mae: 21.5889 - val_loss: 377.9085 - val_mae: 15.4890\n",
            "Epoch 42/100\n",
            "17/17 [==============================] - 0s 4ms/step - loss: 672.9281 - mae: 21.0158 - val_loss: 382.9786 - val_mae: 15.6034\n",
            "Epoch 43/100\n",
            "17/17 [==============================] - 0s 4ms/step - loss: 645.6251 - mae: 20.4202 - val_loss: 377.4697 - val_mae: 15.4883\n",
            "Epoch 44/100\n",
            "17/17 [==============================] - 0s 4ms/step - loss: 702.2612 - mae: 21.3232 - val_loss: 376.3273 - val_mae: 15.4516\n",
            "Epoch 45/100\n",
            "17/17 [==============================] - 0s 3ms/step - loss: 664.9163 - mae: 21.0451 - val_loss: 373.2283 - val_mae: 15.3706\n",
            "Epoch 46/100\n",
            "17/17 [==============================] - 0s 4ms/step - loss: 667.8544 - mae: 20.7752 - val_loss: 358.9311 - val_mae: 15.0239\n",
            "Epoch 47/100\n",
            "17/17 [==============================] - 0s 3ms/step - loss: 740.2247 - mae: 22.3461 - val_loss: 350.6232 - val_mae: 14.8170\n",
            "Epoch 48/100\n",
            "17/17 [==============================] - 0s 3ms/step - loss: 662.7192 - mae: 20.9494 - val_loss: 350.4023 - val_mae: 14.8020\n",
            "Epoch 49/100\n",
            "17/17 [==============================] - 0s 4ms/step - loss: 645.1730 - mae: 20.7415 - val_loss: 359.8758 - val_mae: 15.0253\n",
            "Epoch 50/100\n",
            "17/17 [==============================] - 0s 4ms/step - loss: 619.3827 - mae: 19.4930 - val_loss: 358.1758 - val_mae: 14.9720\n",
            "Epoch 51/100\n",
            "17/17 [==============================] - 0s 4ms/step - loss: 702.4249 - mae: 21.1607 - val_loss: 355.0565 - val_mae: 14.8921\n",
            "Epoch 52/100\n",
            "17/17 [==============================] - 0s 4ms/step - loss: 668.8402 - mae: 20.6409 - val_loss: 353.6462 - val_mae: 14.8579\n",
            "Epoch 53/100\n",
            "17/17 [==============================] - 0s 3ms/step - loss: 576.9572 - mae: 19.5273 - val_loss: 348.9672 - val_mae: 14.7450\n",
            "Epoch 54/100\n",
            "17/17 [==============================] - 0s 4ms/step - loss: 600.8739 - mae: 19.8250 - val_loss: 342.2222 - val_mae: 14.5992\n",
            "Epoch 55/100\n",
            "17/17 [==============================] - 0s 3ms/step - loss: 635.5549 - mae: 20.3216 - val_loss: 343.6006 - val_mae: 14.6430\n",
            "Epoch 56/100\n",
            "17/17 [==============================] - 0s 3ms/step - loss: 645.2082 - mae: 20.2214 - val_loss: 351.6979 - val_mae: 14.8276\n",
            "Epoch 57/100\n",
            "17/17 [==============================] - 0s 3ms/step - loss: 610.6429 - mae: 19.6468 - val_loss: 353.3604 - val_mae: 14.8668\n",
            "Epoch 58/100\n",
            "17/17 [==============================] - 0s 3ms/step - loss: 670.4726 - mae: 20.2244 - val_loss: 356.6613 - val_mae: 14.9484\n",
            "Epoch 59/100\n",
            "17/17 [==============================] - 0s 3ms/step - loss: 689.6550 - mae: 20.7605 - val_loss: 361.6428 - val_mae: 15.0825\n",
            "Epoch 60/100\n",
            "17/17 [==============================] - 0s 3ms/step - loss: 684.9954 - mae: 21.0321 - val_loss: 360.3150 - val_mae: 15.0730\n",
            "Epoch 61/100\n",
            "17/17 [==============================] - 0s 4ms/step - loss: 608.2431 - mae: 20.0387 - val_loss: 356.9330 - val_mae: 14.9950\n",
            "Epoch 62/100\n",
            "17/17 [==============================] - 0s 3ms/step - loss: 597.1101 - mae: 19.4916 - val_loss: 342.3441 - val_mae: 14.6579\n",
            "Epoch 63/100\n",
            "17/17 [==============================] - 0s 3ms/step - loss: 579.6028 - mae: 19.3189 - val_loss: 329.9667 - val_mae: 14.3691\n",
            "Epoch 64/100\n",
            "17/17 [==============================] - 0s 3ms/step - loss: 633.5658 - mae: 19.9995 - val_loss: 330.8910 - val_mae: 14.3836\n",
            "Epoch 65/100\n",
            "17/17 [==============================] - 0s 4ms/step - loss: 640.5113 - mae: 20.4084 - val_loss: 333.9135 - val_mae: 14.4569\n",
            "Epoch 66/100\n",
            "17/17 [==============================] - 0s 4ms/step - loss: 617.4571 - mae: 19.8271 - val_loss: 333.6783 - val_mae: 14.4506\n",
            "Epoch 67/100\n",
            "17/17 [==============================] - 0s 3ms/step - loss: 647.1130 - mae: 20.5466 - val_loss: 321.3575 - val_mae: 14.1599\n",
            "Epoch 68/100\n",
            "17/17 [==============================] - 0s 4ms/step - loss: 658.6067 - mae: 20.5054 - val_loss: 315.8593 - val_mae: 14.0296\n",
            "Epoch 69/100\n",
            "17/17 [==============================] - 0s 3ms/step - loss: 524.3930 - mae: 18.2040 - val_loss: 311.4868 - val_mae: 13.9222\n",
            "Epoch 70/100\n",
            "17/17 [==============================] - 0s 3ms/step - loss: 569.8043 - mae: 18.4876 - val_loss: 312.9855 - val_mae: 13.9557\n",
            "Epoch 71/100\n",
            "17/17 [==============================] - 0s 3ms/step - loss: 545.7407 - mae: 18.1815 - val_loss: 309.2935 - val_mae: 13.8635\n",
            "Epoch 72/100\n",
            "17/17 [==============================] - 0s 3ms/step - loss: 615.2847 - mae: 19.5118 - val_loss: 301.3741 - val_mae: 13.6760\n",
            "Epoch 73/100\n",
            "17/17 [==============================] - 0s 3ms/step - loss: 511.8058 - mae: 17.8121 - val_loss: 304.2509 - val_mae: 13.7523\n",
            "Epoch 74/100\n",
            "17/17 [==============================] - 0s 3ms/step - loss: 637.0600 - mae: 19.9867 - val_loss: 313.6867 - val_mae: 13.9863\n",
            "Epoch 75/100\n",
            "17/17 [==============================] - 0s 4ms/step - loss: 550.5221 - mae: 18.6121 - val_loss: 315.0810 - val_mae: 14.0211\n",
            "Epoch 76/100\n",
            "17/17 [==============================] - 0s 4ms/step - loss: 541.6567 - mae: 18.5210 - val_loss: 310.2325 - val_mae: 13.9092\n",
            "Epoch 77/100\n",
            "17/17 [==============================] - 0s 4ms/step - loss: 618.1882 - mae: 18.7952 - val_loss: 320.6601 - val_mae: 14.1755\n",
            "Epoch 78/100\n",
            "17/17 [==============================] - 0s 3ms/step - loss: 562.0054 - mae: 18.9186 - val_loss: 305.1520 - val_mae: 13.8106\n",
            "Epoch 79/100\n",
            "17/17 [==============================] - 0s 3ms/step - loss: 603.9063 - mae: 19.8201 - val_loss: 298.1444 - val_mae: 13.6398\n",
            "Epoch 80/100\n",
            "17/17 [==============================] - 0s 4ms/step - loss: 547.3380 - mae: 19.0115 - val_loss: 300.0967 - val_mae: 13.6841\n",
            "Epoch 81/100\n",
            "17/17 [==============================] - 0s 3ms/step - loss: 572.2943 - mae: 19.1744 - val_loss: 303.3893 - val_mae: 13.7705\n",
            "Epoch 82/100\n",
            "17/17 [==============================] - 0s 4ms/step - loss: 572.7346 - mae: 19.2140 - val_loss: 298.1125 - val_mae: 13.6477\n",
            "Epoch 83/100\n",
            "17/17 [==============================] - 0s 4ms/step - loss: 570.9857 - mae: 19.5188 - val_loss: 299.5760 - val_mae: 13.6820\n",
            "Epoch 84/100\n",
            "17/17 [==============================] - 0s 4ms/step - loss: 526.9387 - mae: 18.3287 - val_loss: 291.3424 - val_mae: 13.4805\n",
            "Epoch 85/100\n",
            "17/17 [==============================] - 0s 4ms/step - loss: 539.7922 - mae: 18.0907 - val_loss: 294.8603 - val_mae: 13.5637\n",
            "Epoch 86/100\n",
            "17/17 [==============================] - 0s 4ms/step - loss: 579.9185 - mae: 19.1070 - val_loss: 296.7506 - val_mae: 13.6074\n",
            "Epoch 87/100\n",
            "17/17 [==============================] - 0s 3ms/step - loss: 544.0872 - mae: 18.4774 - val_loss: 289.4739 - val_mae: 13.4102\n",
            "Epoch 88/100\n",
            "17/17 [==============================] - 0s 3ms/step - loss: 537.7301 - mae: 18.2070 - val_loss: 288.2859 - val_mae: 13.3759\n",
            "Epoch 89/100\n",
            "17/17 [==============================] - 0s 3ms/step - loss: 617.9464 - mae: 20.0254 - val_loss: 287.9932 - val_mae: 13.3653\n",
            "Epoch 90/100\n",
            "17/17 [==============================] - 0s 3ms/step - loss: 595.7026 - mae: 19.3862 - val_loss: 288.4308 - val_mae: 13.3788\n",
            "Epoch 91/100\n",
            "17/17 [==============================] - 0s 3ms/step - loss: 492.7498 - mae: 17.2605 - val_loss: 284.7838 - val_mae: 13.2816\n",
            "Epoch 92/100\n",
            "17/17 [==============================] - 0s 4ms/step - loss: 611.8723 - mae: 19.4429 - val_loss: 283.2967 - val_mae: 13.2387\n",
            "Epoch 93/100\n",
            "17/17 [==============================] - 0s 4ms/step - loss: 644.9382 - mae: 19.0106 - val_loss: 291.8668 - val_mae: 13.4501\n",
            "Epoch 94/100\n",
            "17/17 [==============================] - 0s 4ms/step - loss: 490.1903 - mae: 17.4800 - val_loss: 293.1320 - val_mae: 13.4918\n",
            "Epoch 95/100\n",
            "17/17 [==============================] - 0s 4ms/step - loss: 502.9145 - mae: 17.7249 - val_loss: 286.1454 - val_mae: 13.3282\n",
            "Epoch 96/100\n",
            "17/17 [==============================] - 0s 3ms/step - loss: 621.1635 - mae: 19.8396 - val_loss: 286.1408 - val_mae: 13.3168\n",
            "Epoch 97/100\n",
            "17/17 [==============================] - 0s 4ms/step - loss: 576.0090 - mae: 19.4035 - val_loss: 292.3130 - val_mae: 13.4640\n",
            "Epoch 98/100\n",
            "17/17 [==============================] - 0s 4ms/step - loss: 548.2884 - mae: 18.2538 - val_loss: 297.1190 - val_mae: 13.5827\n",
            "Epoch 99/100\n",
            "17/17 [==============================] - 0s 4ms/step - loss: 515.2890 - mae: 17.8930 - val_loss: 284.6913 - val_mae: 13.2852\n",
            "Epoch 100/100\n",
            "17/17 [==============================] - 0s 4ms/step - loss: 602.8369 - mae: 19.8317 - val_loss: 275.4723 - val_mae: 13.0663\n"
          ],
          "name": "stdout"
        }
      ]
    },
    {
      "cell_type": "code",
      "metadata": {
        "colab": {
          "base_uri": "https://localhost:8080/",
          "height": 727
        },
        "id": "y6dRdOgcpAdu",
        "outputId": "879ec944-9f0f-42ab-d26a-a53ed64ca459"
      },
      "source": [
        "plt.figure(figsize=(20,15))\n",
        "\n",
        "mae = new_istory.history['mae']\n",
        "val_mae = new_istory.history['val_mae']\n",
        "epochs = range(1, len(mae) + 1)\n",
        "\n",
        "plt.plot(epochs, mae, 'b--', label='Training mae', linewidth=12)\n",
        "plt.plot(epochs, val_mae, 'r', label='Validation mae', linewidth=5)\n",
        "\n",
        "plt.xlabel('Epochs')\n",
        "plt.ylabel('MAE')\n",
        "plt.title('Mean Absolute Error')\n",
        "plt.legend()\n",
        "plt.show()"
      ],
      "execution_count": null,
      "outputs": [
        {
          "output_type": "display_data",
          "data": {
            "image/png": "[encoded data removed]",
            "text/plain": [
              "<Figure size 1440x1080 with 1 Axes>"
            ]
          },
          "metadata": {
            "tags": [],
            "needs_background": "light"
          }
        }
      ]
    },
    {
      "cell_type": "code",
      "metadata": {
        "id": "R89cqyX1poD2"
      },
      "source": [
        "prediction = model.predict(test_data)"
      ],
      "execution_count": null,
      "outputs": []
    },
    {
      "cell_type": "code",
      "metadata": {
        "colab": {
          "base_uri": "https://localhost:8080/"
        },
        "id": "RyWdFkyVp_J1",
        "outputId": "e14f221f-f60b-4f62-94e6-56806cf84129"
      },
      "source": [
        ""
      ],
      "execution_count": null,
      "outputs": [
        {
          "output_type": "execute_result",
          "data": {
            "text/plain": [
              "8"
            ]
          },
          "metadata": {
            "tags": []
          },
          "execution_count": 84
        }
      ]
    },
    {
      "cell_type": "code",
      "metadata": {
        "colab": {
          "base_uri": "https://localhost:8080/"
        },
        "id": "OKcdxBcDp4Xn",
        "outputId": "71ced15c-415e-4360-e5e9-8671f9fd785e"
      },
      "source": [
        "prediction.shape"
      ],
      "execution_count": null,
      "outputs": [
        {
          "output_type": "execute_result",
          "data": {
            "text/plain": [
              "(309, 1)"
            ]
          },
          "metadata": {
            "tags": []
          },
          "execution_count": 87
        }
      ]
    },
    {
      "cell_type": "code",
      "metadata": {
        "id": "wYbt3z6VqTk_"
      },
      "source": [
        "prediction = prediction.reshape(309)"
      ],
      "execution_count": null,
      "outputs": []
    },
    {
      "cell_type": "code",
      "metadata": {
        "colab": {
          "base_uri": "https://localhost:8080/"
        },
        "id": "q-8qCjG_rKML",
        "outputId": "4c518a2c-84e9-4581-d15f-c957cb4c3be2"
      },
      "source": [
        "prediction.shape"
      ],
      "execution_count": null,
      "outputs": [
        {
          "output_type": "execute_result",
          "data": {
            "text/plain": [
              "(309,)"
            ]
          },
          "metadata": {
            "tags": []
          },
          "execution_count": 100
        }
      ]
    },
    {
      "cell_type": "code",
      "metadata": {
        "colab": {
          "base_uri": "https://localhost:8080/",
          "height": 419
        },
        "id": "H_AujFXqqhCD",
        "outputId": "a87c6cda-405d-4794-ac96-d9bffa6b6fea"
      },
      "source": [
        "output = pd.DataFrame({'Actual': test_targets})\n",
        "output"
      ],
      "execution_count": null,
      "outputs": [
        {
          "output_type": "execute_result",
          "data": {
            "text/html": [
              "<div>\n",
              "<style scoped>\n",
              "    .dataframe tbody tr th:only-of-type {\n",
              "        vertical-align: middle;\n",
              "    }\n",
              "\n",
              "    .dataframe tbody tr th {\n",
              "        vertical-align: top;\n",
              "    }\n",
              "\n",
              "    .dataframe thead th {\n",
              "        text-align: right;\n",
              "    }\n",
              "</style>\n",
              "<table border=\"1\" class=\"dataframe\">\n",
              "  <thead>\n",
              "    <tr style=\"text-align: right;\">\n",
              "      <th></th>\n",
              "      <th>Actual</th>\n",
              "    </tr>\n",
              "  </thead>\n",
              "  <tbody>\n",
              "    <tr>\n",
              "      <th>721</th>\n",
              "      <td>31.35</td>\n",
              "    </tr>\n",
              "    <tr>\n",
              "      <th>722</th>\n",
              "      <td>9.45</td>\n",
              "    </tr>\n",
              "    <tr>\n",
              "      <th>723</th>\n",
              "      <td>51.73</td>\n",
              "    </tr>\n",
              "    <tr>\n",
              "      <th>724</th>\n",
              "      <td>45.71</td>\n",
              "    </tr>\n",
              "    <tr>\n",
              "      <th>725</th>\n",
              "      <td>8.54</td>\n",
              "    </tr>\n",
              "    <tr>\n",
              "      <th>...</th>\n",
              "      <td>...</td>\n",
              "    </tr>\n",
              "    <tr>\n",
              "      <th>1025</th>\n",
              "      <td>38.80</td>\n",
              "    </tr>\n",
              "    <tr>\n",
              "      <th>1026</th>\n",
              "      <td>40.23</td>\n",
              "    </tr>\n",
              "    <tr>\n",
              "      <th>1027</th>\n",
              "      <td>33.12</td>\n",
              "    </tr>\n",
              "    <tr>\n",
              "      <th>1028</th>\n",
              "      <td>8.20</td>\n",
              "    </tr>\n",
              "    <tr>\n",
              "      <th>1029</th>\n",
              "      <td>48.79</td>\n",
              "    </tr>\n",
              "  </tbody>\n",
              "</table>\n",
              "<p>309 rows × 1 columns</p>\n",
              "</div>"
            ],
            "text/plain": [
              "      Actual\n",
              "721    31.35\n",
              "722     9.45\n",
              "723    51.73\n",
              "724    45.71\n",
              "725     8.54\n",
              "...      ...\n",
              "1025   38.80\n",
              "1026   40.23\n",
              "1027   33.12\n",
              "1028    8.20\n",
              "1029   48.79\n",
              "\n",
              "[309 rows x 1 columns]"
            ]
          },
          "metadata": {
            "tags": []
          },
          "execution_count": 101
        }
      ]
    },
    {
      "cell_type": "code",
      "metadata": {
        "id": "IhtHZh4lqlAO"
      },
      "source": [
        "output['Predicted'] = prediction"
      ],
      "execution_count": null,
      "outputs": []
    },
    {
      "cell_type": "code",
      "metadata": {
        "id": "pawo3oa8qzVY"
      },
      "source": [
        "output.reset_index(inplace=True)"
      ],
      "execution_count": null,
      "outputs": []
    },
    {
      "cell_type": "code",
      "metadata": {
        "id": "4Utrim3xq4LV"
      },
      "source": [
        "output['Absolute Error'] = np.abs(output['Predicted'] - output['Actual'])"
      ],
      "execution_count": null,
      "outputs": []
    },
    {
      "cell_type": "code",
      "metadata": {
        "colab": {
          "base_uri": "https://localhost:8080/",
          "height": 419
        },
        "id": "PJZqIrz7q61g",
        "outputId": "2921e978-e246-4f43-ca40-106f1d027a6e"
      },
      "source": [
        "output"
      ],
      "execution_count": null,
      "outputs": [
        {
          "output_type": "execute_result",
          "data": {
            "text/html": [
              "<div>\n",
              "<style scoped>\n",
              "    .dataframe tbody tr th:only-of-type {\n",
              "        vertical-align: middle;\n",
              "    }\n",
              "\n",
              "    .dataframe tbody tr th {\n",
              "        vertical-align: top;\n",
              "    }\n",
              "\n",
              "    .dataframe thead th {\n",
              "        text-align: right;\n",
              "    }\n",
              "</style>\n",
              "<table border=\"1\" class=\"dataframe\">\n",
              "  <thead>\n",
              "    <tr style=\"text-align: right;\">\n",
              "      <th></th>\n",
              "      <th>index</th>\n",
              "      <th>Actual</th>\n",
              "      <th>Predicted</th>\n",
              "      <th>Absolute Error</th>\n",
              "    </tr>\n",
              "  </thead>\n",
              "  <tbody>\n",
              "    <tr>\n",
              "      <th>0</th>\n",
              "      <td>721</td>\n",
              "      <td>31.35</td>\n",
              "      <td>19.441393</td>\n",
              "      <td>11.908607</td>\n",
              "    </tr>\n",
              "    <tr>\n",
              "      <th>1</th>\n",
              "      <td>722</td>\n",
              "      <td>9.45</td>\n",
              "      <td>19.830894</td>\n",
              "      <td>10.380894</td>\n",
              "    </tr>\n",
              "    <tr>\n",
              "      <th>2</th>\n",
              "      <td>723</td>\n",
              "      <td>51.73</td>\n",
              "      <td>23.872311</td>\n",
              "      <td>27.857689</td>\n",
              "    </tr>\n",
              "    <tr>\n",
              "      <th>3</th>\n",
              "      <td>724</td>\n",
              "      <td>45.71</td>\n",
              "      <td>16.586658</td>\n",
              "      <td>29.123342</td>\n",
              "    </tr>\n",
              "    <tr>\n",
              "      <th>4</th>\n",
              "      <td>725</td>\n",
              "      <td>8.54</td>\n",
              "      <td>19.880363</td>\n",
              "      <td>11.340363</td>\n",
              "    </tr>\n",
              "    <tr>\n",
              "      <th>...</th>\n",
              "      <td>...</td>\n",
              "      <td>...</td>\n",
              "      <td>...</td>\n",
              "      <td>...</td>\n",
              "    </tr>\n",
              "    <tr>\n",
              "      <th>304</th>\n",
              "      <td>1025</td>\n",
              "      <td>38.80</td>\n",
              "      <td>20.128208</td>\n",
              "      <td>18.671792</td>\n",
              "    </tr>\n",
              "    <tr>\n",
              "      <th>305</th>\n",
              "      <td>1026</td>\n",
              "      <td>40.23</td>\n",
              "      <td>16.490499</td>\n",
              "      <td>23.739501</td>\n",
              "    </tr>\n",
              "    <tr>\n",
              "      <th>306</th>\n",
              "      <td>1027</td>\n",
              "      <td>33.12</td>\n",
              "      <td>20.236286</td>\n",
              "      <td>12.883714</td>\n",
              "    </tr>\n",
              "    <tr>\n",
              "      <th>307</th>\n",
              "      <td>1028</td>\n",
              "      <td>8.20</td>\n",
              "      <td>18.205956</td>\n",
              "      <td>10.005956</td>\n",
              "    </tr>\n",
              "    <tr>\n",
              "      <th>308</th>\n",
              "      <td>1029</td>\n",
              "      <td>48.79</td>\n",
              "      <td>21.579653</td>\n",
              "      <td>27.210347</td>\n",
              "    </tr>\n",
              "  </tbody>\n",
              "</table>\n",
              "<p>309 rows × 4 columns</p>\n",
              "</div>"
            ],
            "text/plain": [
              "     index  Actual  Predicted  Absolute Error\n",
              "0      721   31.35  19.441393       11.908607\n",
              "1      722    9.45  19.830894       10.380894\n",
              "2      723   51.73  23.872311       27.857689\n",
              "3      724   45.71  16.586658       29.123342\n",
              "4      725    8.54  19.880363       11.340363\n",
              "..     ...     ...        ...             ...\n",
              "304   1025   38.80  20.128208       18.671792\n",
              "305   1026   40.23  16.490499       23.739501\n",
              "306   1027   33.12  20.236286       12.883714\n",
              "307   1028    8.20  18.205956       10.005956\n",
              "308   1029   48.79  21.579653       27.210347\n",
              "\n",
              "[309 rows x 4 columns]"
            ]
          },
          "metadata": {
            "tags": []
          },
          "execution_count": 96
        }
      ]
    },
    {
      "cell_type": "code",
      "metadata": {
        "colab": {
          "base_uri": "https://localhost:8080/"
        },
        "id": "GM2ykRjXrD7-",
        "outputId": "6997f441-4539-49db-ff85-5f131ab57180"
      },
      "source": [
        "output.loc[:, 'Absolute Error'].describe()"
      ],
      "execution_count": null,
      "outputs": [
        {
          "output_type": "execute_result",
          "data": {
            "text/plain": [
              "count    309.000000\n",
              "mean      16.854614\n",
              "std       12.296435\n",
              "min        0.027532\n",
              "25%        7.383084\n",
              "50%       13.962332\n",
              "75%       24.397597\n",
              "max       59.778173\n",
              "Name: Absolute Error, dtype: float64"
            ]
          },
          "metadata": {
            "tags": []
          },
          "execution_count": 97
        }
      ]
    }
  ]
}